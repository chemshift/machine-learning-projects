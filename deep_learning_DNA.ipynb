{
 "cells": [
  {
   "cell_type": "markdown",
   "metadata": {
    "id": "2V3d6EExDhDx"
   },
   "source": [
    "#  <center> Deep Learning <center>"
   ]
  },
  {
   "cell_type": "markdown",
   "metadata": {
    "id": "Qq1SSKD4DhD9"
   },
   "source": [
    "# DNA binding sites"
   ]
  },
  {
   "cell_type": "code",
   "execution_count": 204,
   "metadata": {
    "colab": {
     "base_uri": "https://localhost:8080/"
    },
    "executionInfo": {
     "elapsed": 413,
     "status": "ok",
     "timestamp": 1617671536571,
     "user": {
      "displayName": "Dionysios Sema",
      "photoUrl": "",
      "userId": "09686118763046775361"
     },
     "user_tz": 240
    },
    "id": "pGKJEBvfDhD-",
    "outputId": "bcc95e39-9a0f-40ac-bb4b-c80819816ec2"
   },
   "outputs": [
    {
     "name": "stdout",
     "output_type": "stream",
     "text": [
      "--2021-04-06 01:12:16--  https://raw.githubusercontent.com/wwang2/ML4MolEng/master/psets/ps3/data/train_dna.csv\n",
      "Resolving raw.githubusercontent.com (raw.githubusercontent.com)... 185.199.108.133, 185.199.109.133, 185.199.110.133, ...\n",
      "Connecting to raw.githubusercontent.com (raw.githubusercontent.com)|185.199.108.133|:443... connected.\n",
      "HTTP request sent, awaiting response... 200 OK\n",
      "Length: 1408340 (1.3M) [text/plain]\n",
      "Saving to: ‘train_dna.csv’\n",
      "\n",
      "\r",
      "train_dna.csv         0%[                    ]       0  --.-KB/s               \r",
      "train_dna.csv       100%[===================>]   1.34M  --.-KB/s    in 0.02s   \n",
      "\n",
      "2021-04-06 01:12:16 (60.4 MB/s) - ‘train_dna.csv’ saved [1408340/1408340]\n",
      "\n"
     ]
    }
   ],
   "source": [
    "# Download data \n",
    "! wget https://raw.githubusercontent.com/wwang2/ML4MolEng/master/psets/ps3/data/train_dna.csv"
   ]
  },
  {
   "cell_type": "code",
   "execution_count": 205,
   "metadata": {
    "executionInfo": {
     "elapsed": 220,
     "status": "ok",
     "timestamp": 1617671538145,
     "user": {
      "displayName": "Dionysios Sema",
      "photoUrl": "",
      "userId": "09686118763046775361"
     },
     "user_tz": 240
    },
    "id": "WYo4-LqsDhD_"
   },
   "outputs": [],
   "source": [
    "import pandas as pd \n",
    "import torch\n",
    "import numpy as np\n",
    "\n",
    "train_pd = pd.read_csv(\"./train_dna.csv\")\n",
    "\n",
    "X = train_pd.seq.values\n",
    "y = train_pd.bind.values\n"
   ]
  },
  {
   "cell_type": "code",
   "execution_count": 206,
   "metadata": {
    "colab": {
     "base_uri": "https://localhost:8080/"
    },
    "executionInfo": {
     "elapsed": 266,
     "status": "ok",
     "timestamp": 1617671539668,
     "user": {
      "displayName": "Dionysios Sema",
      "photoUrl": "",
      "userId": "09686118763046775361"
     },
     "user_tz": 240
    },
    "id": "e5CMrjVBDhEB",
    "outputId": "fb01bf3d-e545-4550-d55a-5966db522e5f"
   },
   "outputs": [
    {
     "name": "stdout",
     "output_type": "stream",
     "text": [
      "Using cuda:0 device\n"
     ]
    }
   ],
   "source": [
    "# Check if your GPU is requested successfully or not \n",
    "assert torch.cuda.device_count() != 0\n",
    "\n",
    "device = \"cuda:0\" if torch.cuda.is_available() else \"cpu\"\n",
    "print(\"Using {} device\".format(device))"
   ]
  },
  {
   "cell_type": "markdown",
   "metadata": {
    "id": "XwrBaEX3DhEC"
   },
   "source": [
    "### 1.1 Build Datasets and DataLoaders in PyTorch"
   ]
  },
  {
   "cell_type": "markdown",
   "metadata": {
    "id": "GsIWXWX5DhEC"
   },
   "source": [
    "One-hot encode DNA sequence data "
   ]
  },
  {
   "cell_type": "code",
   "execution_count": 207,
   "metadata": {
    "executionInfo": {
     "elapsed": 708,
     "status": "ok",
     "timestamp": 1617671542058,
     "user": {
      "displayName": "Dionysios Sema",
      "photoUrl": "",
      "userId": "09686118763046775361"
     },
     "user_tz": 240
    },
    "id": "1DuInvhJDhED"
   },
   "outputs": [],
   "source": [
    "# One-hot encode DNA sequence data\n",
    "\n",
    "def one_hot_encode(seq):\n",
    "    mapping = dict(zip(\"ACGT\", range(4)))    \n",
    "    seq2 = [mapping[i] for i in seq]\n",
    "    return np.eye(4)[seq2]\n",
    "\n",
    "XX = [one_hot_encode(X[i]) for i in range(len(X))]\n",
    "\n",
    "# Transform  data from list to ndarray\n",
    "XX = np.array(XX)\n"
   ]
  },
  {
   "cell_type": "code",
   "execution_count": 208,
   "metadata": {
    "executionInfo": {
     "elapsed": 217,
     "status": "ok",
     "timestamp": 1617671554830,
     "user": {
      "displayName": "Dionysios Sema",
      "photoUrl": "",
      "userId": "09686118763046775361"
     },
     "user_tz": 240
    },
    "id": "-YmtvChBDhEF"
   },
   "outputs": [],
   "source": [
    "# Build Datasets\n",
    "import torch\n",
    "from torch.utils.data import Dataset, DataLoader\n",
    "import numpy as np\n",
    "\n",
    "# Generate dataset \n",
    "class SequenceDataset(Dataset):\n",
    "    def __init__(self, X, y):\n",
    "        self.X = torch.Tensor(X)  # store X as a pytorch Tensor\n",
    "        self.y = torch.Tensor(y)  # store y as a pytorch Tensor\n",
    "        self.len=len(self.X)      # number of samples in the data \n",
    "\n",
    "    def __getitem__(self, index):\n",
    "        return self.X[index,:,:], self.y[index]\n",
    "\n",
    "    def __len__(self):\n",
    "        return self.len\n",
    "    "
   ]
  },
  {
   "cell_type": "markdown",
   "metadata": {
    "id": "ARI_iK5tDhEF"
   },
   "source": [
    "Define your Datasets and DataLoaders "
   ]
  },
  {
   "cell_type": "code",
   "execution_count": 209,
   "metadata": {
    "executionInfo": {
     "elapsed": 325,
     "status": "ok",
     "timestamp": 1617671556901,
     "user": {
      "displayName": "Dionysios Sema",
      "photoUrl": "",
      "userId": "09686118763046775361"
     },
     "user_tz": 240
    },
    "id": "oXpSYS90DhEG"
   },
   "outputs": [],
   "source": [
    "from sklearn.model_selection import train_test_split\n",
    "\n",
    "# Split dataset to train/val/test ( Ratios: 0.8*0.9 / 0.8*0.1 / 0.2 )\n",
    "X_train, X_test, y_train, y_test = train_test_split(XX, y, test_size=0.2)\n",
    "X_train, X_val, y_train, y_val = train_test_split(X_train, y_train, test_size=0.1)\n",
    "\n",
    "#Build dataset \n",
    "traindata = SequenceDataset(X=X_train, y=y_train)\n",
    "valdata = SequenceDataset(X=X_val, y=y_val)\n",
    "testdata = SequenceDataset(X=X_test, y=y_test)\n",
    "\n",
    "# Build dataloader \n",
    "batchsize = 256\n",
    "train_loader = DataLoader(dataset=traindata,batch_size=batchsize,shuffle=True)\n",
    "val_loader = DataLoader(dataset=valdata,batch_size=batchsize,shuffle=True)\n",
    "test_loader = DataLoader(dataset=testdata,batch_size=batchsize,shuffle=True)"
   ]
  },
  {
   "cell_type": "code",
   "execution_count": null,
   "metadata": {
    "colab": {
     "base_uri": "https://localhost:8080/"
    },
    "executionInfo": {
     "elapsed": 500,
     "status": "ok",
     "timestamp": 1617671561801,
     "user": {
      "displayName": "Dionysios Sema",
      "photoUrl": "",
      "userId": "09686118763046775361"
     },
     "user_tz": 240
    },
    "id": "wDUcFpmrDhEI",
    "outputId": "48b3be5f-a524-4d8e-abc2-cf9bc0510703",
    "scrolled": false
   },
   "outputs": [],
   "source": [
    "X_batch_list = [ batch[0] for index, batch in enumerate(train_loader) ]\n",
    "y_batch_list = [ batch[1] for index, batch in enumerate(train_loader) ]"
   ]
  },
  {
   "cell_type": "markdown",
   "metadata": {
    "id": "B5VD-KLBDhEJ"
   },
   "source": [
    "### 1.4 Build an LSTM-based binding classifier "
   ]
  },
  {
   "cell_type": "code",
   "execution_count": 214,
   "metadata": {
    "executionInfo": {
     "elapsed": 10668,
     "status": "ok",
     "timestamp": 1617671590518,
     "user": {
      "displayName": "Dionysios Sema",
      "photoUrl": "",
      "userId": "09686118763046775361"
     },
     "user_tz": 240
    },
    "id": "9tcbXXdPDhEK"
   },
   "outputs": [],
   "source": [
    "# Use torch.nn.LSTM module \n",
    "from torch import nn\n",
    "\n",
    "# Define a LSTM module \n",
    "lstm_model = nn.LSTM(input_size=4, hidden_size=16, batch_first=True).to(\"cuda:0\") # \"cuda:0\" is the device id\n",
    "\n",
    "# Send your batch to a GPU \n",
    "X_batch = X_batch.to(\"cuda:0\")\n",
    "y_batch = y_batch.to(\"cuda:0\")\n",
    "\n",
    "# Propagate your batch into your model \n",
    "lstm_out, (ht, ct) = lstm_model(X_batch) "
   ]
  },
  {
   "cell_type": "code",
   "execution_count": 215,
   "metadata": {
    "executionInfo": {
     "elapsed": 225,
     "status": "ok",
     "timestamp": 1617671596331,
     "user": {
      "displayName": "Dionysios Sema",
      "photoUrl": "",
      "userId": "09686118763046775361"
     },
     "user_tz": 240
    },
    "id": "0Ujd0daaDhEK"
   },
   "outputs": [],
   "source": [
    "# Define a MLP with a nn.Sequential that stacks nn.Linear and nn.ReLU()\n",
    "\n",
    "mlp = nn.Sequential( nn.Linear(16, 16), \n",
    "                     nn.ReLU(),  \n",
    "                     nn.Linear(16, 1)).to(\"cuda:0\")\n",
    "output = mlp(ht[-1])\n",
    "\n",
    "# define a sigmoid module that maps the scalar output to a probability \n",
    "sigmoid = nn.Sigmoid()\n",
    "proba = sigmoid(output)"
   ]
  },
  {
   "cell_type": "code",
   "execution_count": 216,
   "metadata": {
    "colab": {
     "base_uri": "https://localhost:8080/"
    },
    "executionInfo": {
     "elapsed": 351,
     "status": "ok",
     "timestamp": 1617671598039,
     "user": {
      "displayName": "Dionysios Sema",
      "photoUrl": "",
      "userId": "09686118763046775361"
     },
     "user_tz": 240
    },
    "id": "9dAgimRuDhEL",
    "outputId": "9617d041-6e8d-4ddc-f267-382029a9451b"
   },
   "outputs": [
    {
     "name": "stdout",
     "output_type": "stream",
     "text": [
      "tensor(0.6945, device='cuda:0', grad_fn=<BinaryCrossEntropyBackward>)\n"
     ]
    }
   ],
   "source": [
    "# Use Cross-Entropy to compute a loss function\n",
    "\n",
    "import torch.nn.functional as F\n",
    "\n",
    "loss = F.binary_cross_entropy(proba.squeeze(), y_batch.squeeze()) # squeeze contruct the last dimension to make sure the dimensions match between y_batch and proba\n",
    "\n",
    "print(loss)"
   ]
  },
  {
   "cell_type": "code",
   "execution_count": 217,
   "metadata": {
    "executionInfo": {
     "elapsed": 234,
     "status": "ok",
     "timestamp": 1617671600974,
     "user": {
      "displayName": "Dionysios Sema",
      "photoUrl": "",
      "userId": "09686118763046775361"
     },
     "user_tz": 240
    },
    "id": "fLbSA28gDhEM"
   },
   "outputs": [],
   "source": [
    "class LSTMseq(torch.nn.Module) :\n",
    "    def __init__(self, input_dim, hidden_dim) :\n",
    "        super().__init__()\n",
    "        \n",
    "        # define a lstm module\n",
    "        self.lstm = nn.LSTM(input_size=input_dim, hidden_size=hidden_dim, batch_first=True).to(\"cuda:0\")\n",
    "        \n",
    "        # define a mlp regressor \n",
    "        self.mlp = nn.Sequential( nn.Linear(16, 16), \n",
    "                                  nn.ReLU(),  \n",
    "                                  nn.Linear(16, 1)).to(\"cuda:0\")\n",
    "        \n",
    "        # define a sigmod transform\n",
    "        self.sigmoid = nn.Sigmoid()\n",
    "        \n",
    "    def forward(self, x):\n",
    "        \n",
    "        # Apply lstm \n",
    "        lstm_out, (ht, ct) = self.lstm(x)\n",
    "        # pass ouput into a MLP \n",
    "        output = self.mlp(ht[-1])\n",
    "        # transform output into probabilites \n",
    "        proba = self.sigmoid(output) \n",
    "        # return probabilities \n",
    "        return proba"
   ]
  },
  {
   "cell_type": "code",
   "execution_count": 218,
   "metadata": {
    "executionInfo": {
     "elapsed": 221,
     "status": "ok",
     "timestamp": 1617671603389,
     "user": {
      "displayName": "Dionysios Sema",
      "photoUrl": "",
      "userId": "09686118763046775361"
     },
     "user_tz": 240
    },
    "id": "KN7XH8FJDhEM"
   },
   "outputs": [],
   "source": [
    "# Test your ouput on a batch \n",
    "clf = LSTMseq(input_dim=4, hidden_dim=16).to('cuda:0')\n"
   ]
  },
  {
   "cell_type": "markdown",
   "metadata": {
    "id": "gFbo0-9lDhEN"
   },
   "source": [
    "Implement functions for training and testing"
   ]
  },
  {
   "cell_type": "code",
   "execution_count": 219,
   "metadata": {
    "executionInfo": {
     "elapsed": 485,
     "status": "ok",
     "timestamp": 1617671605902,
     "user": {
      "displayName": "Dionysios Sema",
      "photoUrl": "",
      "userId": "09686118763046775361"
     },
     "user_tz": 240
    },
    "id": "Q7GZ6_I4DhEN"
   },
   "outputs": [],
   "source": [
    "from torch import nn\n",
    "import torch.nn.functional as F\n",
    "\n",
    "def train(model, dataloader, optimizer, device):\n",
    "    \n",
    "    '''\n",
    "    A function train on the entire dataset for one epoch .\n",
    "    \n",
    "    Args: \n",
    "        model (torch.nn.Module()): your sequence classifier \n",
    "        dataloader (torch.utils.data.Dataloader): Dataloader object for the train data\n",
    "        optimizer (torch.optim.Optimizer(()): optimizer object to interface gradient calculation and optimization \n",
    "        device (str): Your string\n",
    "        \n",
    "    Returns: \n",
    "        float: loss averaged over all the batches \n",
    "    \n",
    "    '''\n",
    "    batch_loss = 0\n",
    "    model.train() # Set model to training mode \n",
    "    \n",
    "    size = len(dataloader)\n",
    "\n",
    "    for batch in dataloader:\n",
    "        seq, label = batch\n",
    "        seq = seq.to(device)\n",
    "        label = label.to(device)\n",
    "        \n",
    "        # Compute prediction error\n",
    "        pred = model(seq)\n",
    "\n",
    "        single_batch_loss = F.binary_cross_entropy(pred.squeeze(), label.squeeze())\n",
    "        batch_loss += single_batch_loss\n",
    "\n",
    "        # Backpropagation\n",
    "        optimizer.zero_grad()\n",
    "        single_batch_loss.backward()\n",
    "        optimizer.step()\n",
    "        \n",
    "    batch_loss /= size\n",
    "\n",
    "    return batch_loss\n",
    "\n",
    "\n",
    "def validate(model, dataloader, device):\n",
    "    \n",
    "    '''\n",
    "    A function validate on the validation dataset for one epoch .\n",
    "    \n",
    "    Args: \n",
    "        model (torch.nn.Module()): your sequence classifier \n",
    "        dataloader (torch.utils.data.Dataloader): Dataloader object for the train data\n",
    "        device (str): Your string\n",
    "        \n",
    "    Returns: \n",
    "        float: loss averaged over all the batches \n",
    "    \n",
    "    '''\n",
    "    size = len(dataloader)\n",
    "    val_loss = 0\n",
    "    model.eval() # Set model to evaluation mode \n",
    "    with torch.no_grad():    \n",
    "        for batch in dataloader:\n",
    "            seq, label = batch\n",
    "            seq = seq.to(device)\n",
    "            label = label.to(device)\n",
    "            \n",
    "            pred = model(seq)\n",
    "            val_loss += F.binary_cross_entropy(pred.squeeze(), label.squeeze())\n",
    "    \n",
    "    val_loss /= size\n",
    "    \n",
    "    return val_loss"
   ]
  },
  {
   "cell_type": "code",
   "execution_count": 220,
   "metadata": {
    "executionInfo": {
     "elapsed": 212,
     "status": "ok",
     "timestamp": 1617671609170,
     "user": {
      "displayName": "Dionysios Sema",
      "photoUrl": "",
      "userId": "09686118763046775361"
     },
     "user_tz": 240
    },
    "id": "wpU8VOKQDhEO"
   },
   "outputs": [],
   "source": [
    "device = 'cuda:0'\n",
    "model = LSTMseq(4, 16).to(device)\n",
    "\n",
    "optimizer = torch.optim.Adam(list(model.parameters()), lr=0.01)\n",
    "scheduler = torch.optim.lr_scheduler.ReduceLROnPlateau(optimizer, 'min', verbose=True, factor=0.5)"
   ]
  },
  {
   "cell_type": "code",
   "execution_count": 221,
   "metadata": {
    "colab": {
     "base_uri": "https://localhost:8080/"
    },
    "executionInfo": {
     "elapsed": 125651,
     "status": "ok",
     "timestamp": 1617671736291,
     "user": {
      "displayName": "Dionysios Sema",
      "photoUrl": "",
      "userId": "09686118763046775361"
     },
     "user_tz": 240
    },
    "id": "9boNF2TjDhEQ",
    "outputId": "35981659-a29a-4616-c306-4b4cba2728ef"
   },
   "outputs": [
    {
     "name": "stdout",
     "output_type": "stream",
     "text": [
      "epoch train loss validation loss\n",
      "0 tensor(0.6935, device='cuda:0', grad_fn=<DivBackward0>) tensor(0.6937, device='cuda:0')\n",
      "1 tensor(0.6956, device='cuda:0', grad_fn=<DivBackward0>) tensor(0.6918, device='cuda:0')\n",
      "2 tensor(0.6925, device='cuda:0', grad_fn=<DivBackward0>) tensor(0.6913, device='cuda:0')\n",
      "3 tensor(0.6922, device='cuda:0', grad_fn=<DivBackward0>) tensor(0.6896, device='cuda:0')\n",
      "4 tensor(0.6912, device='cuda:0', grad_fn=<DivBackward0>) tensor(0.6914, device='cuda:0')\n",
      "5 tensor(0.6900, device='cuda:0', grad_fn=<DivBackward0>) tensor(0.6845, device='cuda:0')\n",
      "6 tensor(0.6891, device='cuda:0', grad_fn=<DivBackward0>) tensor(0.6875, device='cuda:0')\n",
      "7 tensor(0.6880, device='cuda:0', grad_fn=<DivBackward0>) tensor(0.6909, device='cuda:0')\n",
      "8 tensor(0.6879, device='cuda:0', grad_fn=<DivBackward0>) tensor(0.6880, device='cuda:0')\n",
      "9 tensor(0.6888, device='cuda:0', grad_fn=<DivBackward0>) tensor(0.6838, device='cuda:0')\n",
      "10 tensor(0.6871, device='cuda:0', grad_fn=<DivBackward0>) tensor(0.6903, device='cuda:0')\n",
      "11 tensor(0.6870, device='cuda:0', grad_fn=<DivBackward0>) tensor(0.6664, device='cuda:0')\n",
      "12 tensor(0.6874, device='cuda:0', grad_fn=<DivBackward0>) tensor(0.6818, device='cuda:0')\n",
      "13 tensor(0.6807, device='cuda:0', grad_fn=<DivBackward0>) tensor(0.6886, device='cuda:0')\n",
      "14 tensor(0.6769, device='cuda:0', grad_fn=<DivBackward0>) tensor(0.6968, device='cuda:0')\n",
      "15 tensor(0.6960, device='cuda:0', grad_fn=<DivBackward0>) tensor(0.6946, device='cuda:0')\n",
      "16 tensor(0.6929, device='cuda:0', grad_fn=<DivBackward0>) tensor(0.6929, device='cuda:0')\n",
      "17 tensor(0.6931, device='cuda:0', grad_fn=<DivBackward0>) tensor(0.6994, device='cuda:0')\n",
      "18 tensor(0.6933, device='cuda:0', grad_fn=<DivBackward0>) tensor(0.6929, device='cuda:0')\n",
      "19 tensor(0.6926, device='cuda:0', grad_fn=<DivBackward0>) tensor(0.6931, device='cuda:0')\n",
      "20 tensor(0.6923, device='cuda:0', grad_fn=<DivBackward0>) tensor(0.6961, device='cuda:0')\n",
      "21 tensor(0.6921, device='cuda:0', grad_fn=<DivBackward0>) tensor(0.6931, device='cuda:0')\n",
      "Epoch    23: reducing learning rate of group 0 to 5.0000e-03.\n",
      "22 tensor(0.7007, device='cuda:0', grad_fn=<DivBackward0>) tensor(0.7007, device='cuda:0')\n",
      "23 tensor(0.6920, device='cuda:0', grad_fn=<DivBackward0>) tensor(0.6938, device='cuda:0')\n",
      "24 tensor(0.6903, device='cuda:0', grad_fn=<DivBackward0>) tensor(0.6895, device='cuda:0')\n",
      "25 tensor(0.6833, device='cuda:0', grad_fn=<DivBackward0>) tensor(0.6693, device='cuda:0')\n",
      "26 tensor(0.6652, device='cuda:0', grad_fn=<DivBackward0>) tensor(0.6422, device='cuda:0')\n",
      "27 tensor(0.6749, device='cuda:0', grad_fn=<DivBackward0>) tensor(0.6774, device='cuda:0')\n",
      "28 tensor(0.6454, device='cuda:0', grad_fn=<DivBackward0>) tensor(0.6423, device='cuda:0')\n",
      "29 tensor(0.6598, device='cuda:0', grad_fn=<DivBackward0>) tensor(0.6131, device='cuda:0')\n",
      "30 tensor(0.6119, device='cuda:0', grad_fn=<DivBackward0>) tensor(0.6153, device='cuda:0')\n",
      "31 tensor(0.5982, device='cuda:0', grad_fn=<DivBackward0>) tensor(0.5570, device='cuda:0')\n",
      "32 tensor(0.5796, device='cuda:0', grad_fn=<DivBackward0>) tensor(0.5546, device='cuda:0')\n",
      "33 tensor(0.5741, device='cuda:0', grad_fn=<DivBackward0>) tensor(0.5976, device='cuda:0')\n",
      "34 tensor(0.5634, device='cuda:0', grad_fn=<DivBackward0>) tensor(0.5539, device='cuda:0')\n",
      "35 tensor(0.5463, device='cuda:0', grad_fn=<DivBackward0>) tensor(0.5602, device='cuda:0')\n",
      "36 tensor(0.5437, device='cuda:0', grad_fn=<DivBackward0>) tensor(0.5693, device='cuda:0')\n",
      "37 tensor(0.5351, device='cuda:0', grad_fn=<DivBackward0>) tensor(0.5196, device='cuda:0')\n",
      "38 tensor(0.5323, device='cuda:0', grad_fn=<DivBackward0>) tensor(0.5675, device='cuda:0')\n",
      "39 tensor(0.5071, device='cuda:0', grad_fn=<DivBackward0>) tensor(0.5234, device='cuda:0')\n",
      "40 tensor(0.4864, device='cuda:0', grad_fn=<DivBackward0>) tensor(0.4296, device='cuda:0')\n",
      "41 tensor(0.4219, device='cuda:0', grad_fn=<DivBackward0>) tensor(0.4461, device='cuda:0')\n",
      "42 tensor(0.3766, device='cuda:0', grad_fn=<DivBackward0>) tensor(0.3165, device='cuda:0')\n",
      "43 tensor(0.3457, device='cuda:0', grad_fn=<DivBackward0>) tensor(0.2706, device='cuda:0')\n",
      "44 tensor(0.3255, device='cuda:0', grad_fn=<DivBackward0>) tensor(0.2637, device='cuda:0')\n",
      "45 tensor(0.3169, device='cuda:0', grad_fn=<DivBackward0>) tensor(0.2869, device='cuda:0')\n",
      "46 tensor(0.3005, device='cuda:0', grad_fn=<DivBackward0>) tensor(0.3552, device='cuda:0')\n",
      "47 tensor(0.2955, device='cuda:0', grad_fn=<DivBackward0>) tensor(0.3197, device='cuda:0')\n",
      "48 tensor(0.2849, device='cuda:0', grad_fn=<DivBackward0>) tensor(0.2660, device='cuda:0')\n",
      "49 tensor(0.2790, device='cuda:0', grad_fn=<DivBackward0>) tensor(0.2608, device='cuda:0')\n",
      "50 tensor(0.2730, device='cuda:0', grad_fn=<DivBackward0>) tensor(0.2896, device='cuda:0')\n",
      "51 tensor(0.2725, device='cuda:0', grad_fn=<DivBackward0>) tensor(0.2812, device='cuda:0')\n",
      "52 tensor(0.2672, device='cuda:0', grad_fn=<DivBackward0>) tensor(0.3163, device='cuda:0')\n",
      "53 tensor(0.2660, device='cuda:0', grad_fn=<DivBackward0>) tensor(0.3014, device='cuda:0')\n",
      "54 tensor(0.2714, device='cuda:0', grad_fn=<DivBackward0>) tensor(0.2759, device='cuda:0')\n",
      "55 tensor(0.2637, device='cuda:0', grad_fn=<DivBackward0>) tensor(0.2505, device='cuda:0')\n",
      "56 tensor(0.2552, device='cuda:0', grad_fn=<DivBackward0>) tensor(0.2697, device='cuda:0')\n",
      "57 tensor(0.2519, device='cuda:0', grad_fn=<DivBackward0>) tensor(0.2361, device='cuda:0')\n",
      "58 tensor(0.2548, device='cuda:0', grad_fn=<DivBackward0>) tensor(0.4005, device='cuda:0')\n",
      "59 tensor(0.2538, device='cuda:0', grad_fn=<DivBackward0>) tensor(0.2361, device='cuda:0')\n",
      "60 tensor(0.2534, device='cuda:0', grad_fn=<DivBackward0>) tensor(0.3079, device='cuda:0')\n",
      "61 tensor(0.2471, device='cuda:0', grad_fn=<DivBackward0>) tensor(0.2401, device='cuda:0')\n",
      "62 tensor(0.2433, device='cuda:0', grad_fn=<DivBackward0>) tensor(0.2874, device='cuda:0')\n",
      "63 tensor(0.2446, device='cuda:0', grad_fn=<DivBackward0>) tensor(0.3465, device='cuda:0')\n",
      "64 tensor(0.2428, device='cuda:0', grad_fn=<DivBackward0>) tensor(0.2598, device='cuda:0')\n",
      "65 tensor(0.2364, device='cuda:0', grad_fn=<DivBackward0>) tensor(0.2364, device='cuda:0')\n",
      "66 tensor(0.2349, device='cuda:0', grad_fn=<DivBackward0>) tensor(0.2931, device='cuda:0')\n",
      "67 tensor(0.2413, device='cuda:0', grad_fn=<DivBackward0>) tensor(0.2294, device='cuda:0')\n",
      "68 tensor(0.2331, device='cuda:0', grad_fn=<DivBackward0>) tensor(0.2265, device='cuda:0')\n",
      "69 tensor(0.2344, device='cuda:0', grad_fn=<DivBackward0>) tensor(0.2385, device='cuda:0')\n",
      "70 tensor(0.2454, device='cuda:0', grad_fn=<DivBackward0>) tensor(0.3150, device='cuda:0')\n",
      "71 tensor(0.2417, device='cuda:0', grad_fn=<DivBackward0>) tensor(0.2644, device='cuda:0')\n",
      "72 tensor(0.2316, device='cuda:0', grad_fn=<DivBackward0>) tensor(0.2464, device='cuda:0')\n",
      "73 tensor(0.2245, device='cuda:0', grad_fn=<DivBackward0>) tensor(0.2260, device='cuda:0')\n",
      "74 tensor(0.2258, device='cuda:0', grad_fn=<DivBackward0>) tensor(0.3431, device='cuda:0')\n",
      "75 tensor(0.2241, device='cuda:0', grad_fn=<DivBackward0>) tensor(0.2717, device='cuda:0')\n",
      "76 tensor(0.2243, device='cuda:0', grad_fn=<DivBackward0>) tensor(0.2688, device='cuda:0')\n",
      "77 tensor(0.2189, device='cuda:0', grad_fn=<DivBackward0>) tensor(0.2585, device='cuda:0')\n",
      "78 tensor(0.2264, device='cuda:0', grad_fn=<DivBackward0>) tensor(0.2659, device='cuda:0')\n",
      "79 tensor(0.2201, device='cuda:0', grad_fn=<DivBackward0>) tensor(0.2784, device='cuda:0')\n",
      "80 tensor(0.2162, device='cuda:0', grad_fn=<DivBackward0>) tensor(0.3834, device='cuda:0')\n",
      "81 tensor(0.2227, device='cuda:0', grad_fn=<DivBackward0>) tensor(0.2793, device='cuda:0')\n",
      "82 tensor(0.2237, device='cuda:0', grad_fn=<DivBackward0>) tensor(0.2455, device='cuda:0')\n",
      "83 tensor(0.2117, device='cuda:0', grad_fn=<DivBackward0>) tensor(0.2257, device='cuda:0')\n",
      "84 tensor(0.2092, device='cuda:0', grad_fn=<DivBackward0>) tensor(0.2551, device='cuda:0')\n",
      "85 tensor(0.2111, device='cuda:0', grad_fn=<DivBackward0>) tensor(0.3918, device='cuda:0')\n",
      "86 tensor(0.2100, device='cuda:0', grad_fn=<DivBackward0>) tensor(0.2419, device='cuda:0')\n",
      "87 tensor(0.2120, device='cuda:0', grad_fn=<DivBackward0>) tensor(0.2805, device='cuda:0')\n",
      "88 tensor(0.2121, device='cuda:0', grad_fn=<DivBackward0>) tensor(0.3064, device='cuda:0')\n",
      "89 tensor(0.2071, device='cuda:0', grad_fn=<DivBackward0>) tensor(0.2848, device='cuda:0')\n",
      "90 tensor(0.2060, device='cuda:0', grad_fn=<DivBackward0>) tensor(0.2288, device='cuda:0')\n",
      "91 tensor(0.2069, device='cuda:0', grad_fn=<DivBackward0>) tensor(0.3419, device='cuda:0')\n",
      "92 tensor(0.2110, device='cuda:0', grad_fn=<DivBackward0>) tensor(0.2516, device='cuda:0')\n",
      "93 tensor(0.1982, device='cuda:0', grad_fn=<DivBackward0>) tensor(0.3686, device='cuda:0')\n",
      "Epoch    95: reducing learning rate of group 0 to 2.5000e-03.\n",
      "94 tensor(0.1987, device='cuda:0', grad_fn=<DivBackward0>) tensor(0.3307, device='cuda:0')\n",
      "95 tensor(0.1934, device='cuda:0', grad_fn=<DivBackward0>) tensor(0.2808, device='cuda:0')\n",
      "96 tensor(0.1932, device='cuda:0', grad_fn=<DivBackward0>) tensor(0.2371, device='cuda:0')\n",
      "97 tensor(0.1958, device='cuda:0', grad_fn=<DivBackward0>) tensor(0.2447, device='cuda:0')\n",
      "98 tensor(0.1911, device='cuda:0', grad_fn=<DivBackward0>) tensor(0.2774, device='cuda:0')\n",
      "99 tensor(0.1910, device='cuda:0', grad_fn=<DivBackward0>) tensor(0.2502, device='cuda:0')\n",
      "100 tensor(0.1894, device='cuda:0', grad_fn=<DivBackward0>) tensor(0.2246, device='cuda:0')\n",
      "101 tensor(0.1904, device='cuda:0', grad_fn=<DivBackward0>) tensor(0.2316, device='cuda:0')\n",
      "102 tensor(0.1926, device='cuda:0', grad_fn=<DivBackward0>) tensor(0.2307, device='cuda:0')\n",
      "103 tensor(0.1909, device='cuda:0', grad_fn=<DivBackward0>) tensor(0.2917, device='cuda:0')\n",
      "104 tensor(0.1908, device='cuda:0', grad_fn=<DivBackward0>) tensor(0.2637, device='cuda:0')\n",
      "105 tensor(0.1970, device='cuda:0', grad_fn=<DivBackward0>) tensor(0.3064, device='cuda:0')\n",
      "106 tensor(0.1862, device='cuda:0', grad_fn=<DivBackward0>) tensor(0.2447, device='cuda:0')\n",
      "107 tensor(0.1893, device='cuda:0', grad_fn=<DivBackward0>) tensor(0.2794, device='cuda:0')\n",
      "108 tensor(0.1849, device='cuda:0', grad_fn=<DivBackward0>) tensor(0.2428, device='cuda:0')\n",
      "109 tensor(0.1848, device='cuda:0', grad_fn=<DivBackward0>) tensor(0.4116, device='cuda:0')\n",
      "110 tensor(0.1847, device='cuda:0', grad_fn=<DivBackward0>) tensor(0.3667, device='cuda:0')\n",
      "Epoch   112: reducing learning rate of group 0 to 1.2500e-03.\n",
      "111 tensor(0.1829, device='cuda:0', grad_fn=<DivBackward0>) tensor(0.2718, device='cuda:0')\n",
      "112 tensor(0.1825, device='cuda:0', grad_fn=<DivBackward0>) tensor(0.2559, device='cuda:0')\n",
      "113 tensor(0.1780, device='cuda:0', grad_fn=<DivBackward0>) tensor(0.2488, device='cuda:0')\n",
      "114 tensor(0.1823, device='cuda:0', grad_fn=<DivBackward0>) tensor(0.3160, device='cuda:0')\n",
      "115 tensor(0.1819, device='cuda:0', grad_fn=<DivBackward0>) tensor(0.2797, device='cuda:0')\n",
      "116 tensor(0.1777, device='cuda:0', grad_fn=<DivBackward0>) tensor(0.3238, device='cuda:0')\n",
      "117 tensor(0.1759, device='cuda:0', grad_fn=<DivBackward0>) tensor(0.2599, device='cuda:0')\n",
      "118 tensor(0.1778, device='cuda:0', grad_fn=<DivBackward0>) tensor(0.2961, device='cuda:0')\n",
      "119 tensor(0.1778, device='cuda:0', grad_fn=<DivBackward0>) tensor(0.2946, device='cuda:0')\n",
      "120 tensor(0.1752, device='cuda:0', grad_fn=<DivBackward0>) tensor(0.3018, device='cuda:0')\n",
      "121 tensor(0.1767, device='cuda:0', grad_fn=<DivBackward0>) tensor(0.3029, device='cuda:0')\n",
      "Epoch   123: reducing learning rate of group 0 to 6.2500e-04.\n",
      "122 tensor(0.1779, device='cuda:0', grad_fn=<DivBackward0>) tensor(0.2513, device='cuda:0')\n",
      "123 tensor(0.1752, device='cuda:0', grad_fn=<DivBackward0>) tensor(0.3280, device='cuda:0')\n",
      "124 tensor(0.1744, device='cuda:0', grad_fn=<DivBackward0>) tensor(0.2774, device='cuda:0')\n",
      "125 tensor(0.1743, device='cuda:0', grad_fn=<DivBackward0>) tensor(0.2730, device='cuda:0')\n",
      "126 tensor(0.1747, device='cuda:0', grad_fn=<DivBackward0>) tensor(0.2541, device='cuda:0')\n",
      "127 tensor(0.1732, device='cuda:0', grad_fn=<DivBackward0>) tensor(0.3739, device='cuda:0')\n",
      "128 tensor(0.1743, device='cuda:0', grad_fn=<DivBackward0>) tensor(0.2881, device='cuda:0')\n",
      "129 tensor(0.1731, device='cuda:0', grad_fn=<DivBackward0>) tensor(0.2944, device='cuda:0')\n",
      "130 tensor(0.1720, device='cuda:0', grad_fn=<DivBackward0>) tensor(0.3235, device='cuda:0')\n",
      "131 tensor(0.1735, device='cuda:0', grad_fn=<DivBackward0>) tensor(0.2770, device='cuda:0')\n",
      "132 tensor(0.1734, device='cuda:0', grad_fn=<DivBackward0>) tensor(0.2419, device='cuda:0')\n",
      "Epoch   134: reducing learning rate of group 0 to 3.1250e-04.\n",
      "133 tensor(0.1708, device='cuda:0', grad_fn=<DivBackward0>) tensor(0.3702, device='cuda:0')\n",
      "134 tensor(0.1709, device='cuda:0', grad_fn=<DivBackward0>) tensor(0.2321, device='cuda:0')\n",
      "135 tensor(0.1694, device='cuda:0', grad_fn=<DivBackward0>) tensor(0.3425, device='cuda:0')\n",
      "136 tensor(0.1711, device='cuda:0', grad_fn=<DivBackward0>) tensor(0.2391, device='cuda:0')\n",
      "137 tensor(0.1702, device='cuda:0', grad_fn=<DivBackward0>) tensor(0.3024, device='cuda:0')\n",
      "138 tensor(0.1736, device='cuda:0', grad_fn=<DivBackward0>) tensor(0.3432, device='cuda:0')\n",
      "139 tensor(0.1698, device='cuda:0', grad_fn=<DivBackward0>) tensor(0.2749, device='cuda:0')\n",
      "140 tensor(0.1712, device='cuda:0', grad_fn=<DivBackward0>) tensor(0.3254, device='cuda:0')\n",
      "141 tensor(0.1713, device='cuda:0', grad_fn=<DivBackward0>) tensor(0.3210, device='cuda:0')\n",
      "142 tensor(0.1708, device='cuda:0', grad_fn=<DivBackward0>) tensor(0.2773, device='cuda:0')\n",
      "143 tensor(0.1698, device='cuda:0', grad_fn=<DivBackward0>) tensor(0.3039, device='cuda:0')\n",
      "Epoch   145: reducing learning rate of group 0 to 1.5625e-04.\n",
      "144 tensor(0.1678, device='cuda:0', grad_fn=<DivBackward0>) tensor(0.3339, device='cuda:0')\n",
      "145 tensor(0.1700, device='cuda:0', grad_fn=<DivBackward0>) tensor(0.2374, device='cuda:0')\n",
      "146 tensor(0.1723, device='cuda:0', grad_fn=<DivBackward0>) tensor(0.2590, device='cuda:0')\n",
      "147 tensor(0.1677, device='cuda:0', grad_fn=<DivBackward0>) tensor(0.2382, device='cuda:0')\n",
      "148 tensor(0.1694, device='cuda:0', grad_fn=<DivBackward0>) tensor(0.3388, device='cuda:0')\n",
      "149 tensor(0.1706, device='cuda:0', grad_fn=<DivBackward0>) tensor(0.3288, device='cuda:0')\n",
      "150 tensor(0.1688, device='cuda:0', grad_fn=<DivBackward0>) tensor(0.2919, device='cuda:0')\n",
      "151 tensor(0.1697, device='cuda:0', grad_fn=<DivBackward0>) tensor(0.4605, device='cuda:0')\n",
      "152 tensor(0.1681, device='cuda:0', grad_fn=<DivBackward0>) tensor(0.2472, device='cuda:0')\n",
      "153 tensor(0.1706, device='cuda:0', grad_fn=<DivBackward0>) tensor(0.3941, device='cuda:0')\n",
      "154 tensor(0.1689, device='cuda:0', grad_fn=<DivBackward0>) tensor(0.2809, device='cuda:0')\n",
      "Epoch   156: reducing learning rate of group 0 to 7.8125e-05.\n",
      "155 tensor(0.1698, device='cuda:0', grad_fn=<DivBackward0>) tensor(0.4548, device='cuda:0')\n",
      "156 tensor(0.1679, device='cuda:0', grad_fn=<DivBackward0>) tensor(0.3466, device='cuda:0')\n",
      "157 tensor(0.1684, device='cuda:0', grad_fn=<DivBackward0>) tensor(0.2332, device='cuda:0')\n",
      "158 tensor(0.1676, device='cuda:0', grad_fn=<DivBackward0>) tensor(0.2393, device='cuda:0')\n",
      "159 tensor(0.1680, device='cuda:0', grad_fn=<DivBackward0>) tensor(0.2796, device='cuda:0')\n",
      "160 tensor(0.1694, device='cuda:0', grad_fn=<DivBackward0>) tensor(0.2559, device='cuda:0')\n",
      "161 tensor(0.1692, device='cuda:0', grad_fn=<DivBackward0>) tensor(0.2454, device='cuda:0')\n",
      "162 tensor(0.1680, device='cuda:0', grad_fn=<DivBackward0>) tensor(0.3083, device='cuda:0')\n",
      "163 tensor(0.1672, device='cuda:0', grad_fn=<DivBackward0>) tensor(0.2617, device='cuda:0')\n",
      "164 tensor(0.1705, device='cuda:0', grad_fn=<DivBackward0>) tensor(0.3045, device='cuda:0')\n",
      "165 tensor(0.1683, device='cuda:0', grad_fn=<DivBackward0>) tensor(0.2395, device='cuda:0')\n",
      "Epoch   167: reducing learning rate of group 0 to 3.9063e-05.\n",
      "166 tensor(0.1683, device='cuda:0', grad_fn=<DivBackward0>) tensor(0.3374, device='cuda:0')\n",
      "167 tensor(0.1723, device='cuda:0', grad_fn=<DivBackward0>) tensor(0.2951, device='cuda:0')\n",
      "168 tensor(0.1676, device='cuda:0', grad_fn=<DivBackward0>) tensor(0.2392, device='cuda:0')\n",
      "169 tensor(0.1663, device='cuda:0', grad_fn=<DivBackward0>) tensor(0.2625, device='cuda:0')\n",
      "170 tensor(0.1680, device='cuda:0', grad_fn=<DivBackward0>) tensor(0.2380, device='cuda:0')\n",
      "171 tensor(0.1681, device='cuda:0', grad_fn=<DivBackward0>) tensor(0.3607, device='cuda:0')\n",
      "172 tensor(0.1680, device='cuda:0', grad_fn=<DivBackward0>) tensor(0.3957, device='cuda:0')\n",
      "173 tensor(0.1674, device='cuda:0', grad_fn=<DivBackward0>) tensor(0.2720, device='cuda:0')\n",
      "174 tensor(0.1678, device='cuda:0', grad_fn=<DivBackward0>) tensor(0.2354, device='cuda:0')\n",
      "175 tensor(0.1688, device='cuda:0', grad_fn=<DivBackward0>) tensor(0.2665, device='cuda:0')\n",
      "176 tensor(0.1695, device='cuda:0', grad_fn=<DivBackward0>) tensor(0.3895, device='cuda:0')\n",
      "Epoch   178: reducing learning rate of group 0 to 1.9531e-05.\n",
      "177 tensor(0.1684, device='cuda:0', grad_fn=<DivBackward0>) tensor(0.2370, device='cuda:0')\n",
      "178 tensor(0.1686, device='cuda:0', grad_fn=<DivBackward0>) tensor(0.3246, device='cuda:0')\n",
      "179 tensor(0.1673, device='cuda:0', grad_fn=<DivBackward0>) tensor(0.2360, device='cuda:0')\n",
      "180 tensor(0.1678, device='cuda:0', grad_fn=<DivBackward0>) tensor(0.2664, device='cuda:0')\n",
      "181 tensor(0.1680, device='cuda:0', grad_fn=<DivBackward0>) tensor(0.2343, device='cuda:0')\n",
      "182 tensor(0.1688, device='cuda:0', grad_fn=<DivBackward0>) tensor(0.2355, device='cuda:0')\n",
      "183 tensor(0.1675, device='cuda:0', grad_fn=<DivBackward0>) tensor(0.2521, device='cuda:0')\n",
      "184 tensor(0.1695, device='cuda:0', grad_fn=<DivBackward0>) tensor(0.3475, device='cuda:0')\n",
      "185 tensor(0.1669, device='cuda:0', grad_fn=<DivBackward0>) tensor(0.4059, device='cuda:0')\n",
      "186 tensor(0.1685, device='cuda:0', grad_fn=<DivBackward0>) tensor(0.2335, device='cuda:0')\n",
      "187 tensor(0.1676, device='cuda:0', grad_fn=<DivBackward0>) tensor(0.2403, device='cuda:0')\n",
      "Epoch   189: reducing learning rate of group 0 to 9.7656e-06.\n",
      "188 tensor(0.1684, device='cuda:0', grad_fn=<DivBackward0>) tensor(0.2355, device='cuda:0')\n",
      "189 tensor(0.1663, device='cuda:0', grad_fn=<DivBackward0>) tensor(0.4068, device='cuda:0')\n",
      "190 tensor(0.1689, device='cuda:0', grad_fn=<DivBackward0>) tensor(0.2363, device='cuda:0')\n",
      "191 tensor(0.1671, device='cuda:0', grad_fn=<DivBackward0>) tensor(0.3206, device='cuda:0')\n",
      "192 tensor(0.1685, device='cuda:0', grad_fn=<DivBackward0>) tensor(0.4131, device='cuda:0')\n",
      "193 tensor(0.1694, device='cuda:0', grad_fn=<DivBackward0>) tensor(0.2348, device='cuda:0')\n",
      "194 tensor(0.1676, device='cuda:0', grad_fn=<DivBackward0>) tensor(0.3364, device='cuda:0')\n",
      "195 tensor(0.1681, device='cuda:0', grad_fn=<DivBackward0>) tensor(0.2361, device='cuda:0')\n",
      "196 tensor(0.1675, device='cuda:0', grad_fn=<DivBackward0>) tensor(0.2355, device='cuda:0')\n",
      "197 tensor(0.1697, device='cuda:0', grad_fn=<DivBackward0>) tensor(0.2520, device='cuda:0')\n",
      "198 tensor(0.1691, device='cuda:0', grad_fn=<DivBackward0>) tensor(0.2807, device='cuda:0')\n",
      "Epoch   200: reducing learning rate of group 0 to 4.8828e-06.\n",
      "199 tensor(0.1663, device='cuda:0', grad_fn=<DivBackward0>) tensor(0.3741, device='cuda:0')\n",
      "200 tensor(0.1688, device='cuda:0', grad_fn=<DivBackward0>) tensor(0.2361, device='cuda:0')\n",
      "201 tensor(0.1673, device='cuda:0', grad_fn=<DivBackward0>) tensor(0.2848, device='cuda:0')\n",
      "202 tensor(0.1701, device='cuda:0', grad_fn=<DivBackward0>) tensor(0.3295, device='cuda:0')\n",
      "203 tensor(0.1688, device='cuda:0', grad_fn=<DivBackward0>) tensor(0.2403, device='cuda:0')\n",
      "204 tensor(0.1659, device='cuda:0', grad_fn=<DivBackward0>) tensor(0.2510, device='cuda:0')\n",
      "205 tensor(0.1710, device='cuda:0', grad_fn=<DivBackward0>) tensor(0.2422, device='cuda:0')\n",
      "206 tensor(0.1690, device='cuda:0', grad_fn=<DivBackward0>) tensor(0.2524, device='cuda:0')\n",
      "207 tensor(0.1692, device='cuda:0', grad_fn=<DivBackward0>) tensor(0.3133, device='cuda:0')\n",
      "208 tensor(0.1684, device='cuda:0', grad_fn=<DivBackward0>) tensor(0.2461, device='cuda:0')\n",
      "209 tensor(0.1677, device='cuda:0', grad_fn=<DivBackward0>) tensor(0.3012, device='cuda:0')\n",
      "Epoch   211: reducing learning rate of group 0 to 2.4414e-06.\n",
      "210 tensor(0.1674, device='cuda:0', grad_fn=<DivBackward0>) tensor(0.4767, device='cuda:0')\n",
      "211 tensor(0.1691, device='cuda:0', grad_fn=<DivBackward0>) tensor(0.3518, device='cuda:0')\n",
      "212 tensor(0.1664, device='cuda:0', grad_fn=<DivBackward0>) tensor(0.2365, device='cuda:0')\n",
      "213 tensor(0.1683, device='cuda:0', grad_fn=<DivBackward0>) tensor(0.3624, device='cuda:0')\n",
      "214 tensor(0.1673, device='cuda:0', grad_fn=<DivBackward0>) tensor(0.2647, device='cuda:0')\n",
      "215 tensor(0.1668, device='cuda:0', grad_fn=<DivBackward0>) tensor(0.2480, device='cuda:0')\n",
      "216 tensor(0.1682, device='cuda:0', grad_fn=<DivBackward0>) tensor(0.3441, device='cuda:0')\n",
      "217 tensor(0.1683, device='cuda:0', grad_fn=<DivBackward0>) tensor(0.2501, device='cuda:0')\n",
      "218 tensor(0.1672, device='cuda:0', grad_fn=<DivBackward0>) tensor(0.2426, device='cuda:0')\n",
      "219 tensor(0.1667, device='cuda:0', grad_fn=<DivBackward0>) tensor(0.3599, device='cuda:0')\n",
      "220 tensor(0.1672, device='cuda:0', grad_fn=<DivBackward0>) tensor(0.3418, device='cuda:0')\n",
      "Epoch   222: reducing learning rate of group 0 to 1.2207e-06.\n",
      "221 tensor(0.1691, device='cuda:0', grad_fn=<DivBackward0>) tensor(0.2968, device='cuda:0')\n",
      "222 tensor(0.1689, device='cuda:0', grad_fn=<DivBackward0>) tensor(0.2519, device='cuda:0')\n",
      "223 tensor(0.1674, device='cuda:0', grad_fn=<DivBackward0>) tensor(0.3724, device='cuda:0')\n",
      "224 tensor(0.1668, device='cuda:0', grad_fn=<DivBackward0>) tensor(0.3024, device='cuda:0')\n",
      "225 tensor(0.1675, device='cuda:0', grad_fn=<DivBackward0>) tensor(0.2398, device='cuda:0')\n",
      "226 tensor(0.1699, device='cuda:0', grad_fn=<DivBackward0>) tensor(0.2425, device='cuda:0')\n",
      "227 tensor(0.1684, device='cuda:0', grad_fn=<DivBackward0>) tensor(0.2644, device='cuda:0')\n",
      "228 tensor(0.1673, device='cuda:0', grad_fn=<DivBackward0>) tensor(0.2521, device='cuda:0')\n",
      "229 tensor(0.1678, device='cuda:0', grad_fn=<DivBackward0>) tensor(0.2520, device='cuda:0')\n",
      "230 tensor(0.1711, device='cuda:0', grad_fn=<DivBackward0>) tensor(0.2418, device='cuda:0')\n",
      "231 tensor(0.1706, device='cuda:0', grad_fn=<DivBackward0>) tensor(0.2340, device='cuda:0')\n",
      "Epoch   233: reducing learning rate of group 0 to 6.1035e-07.\n",
      "232 tensor(0.1674, device='cuda:0', grad_fn=<DivBackward0>) tensor(0.2635, device='cuda:0')\n",
      "233 tensor(0.1682, device='cuda:0', grad_fn=<DivBackward0>) tensor(0.2572, device='cuda:0')\n",
      "234 tensor(0.1694, device='cuda:0', grad_fn=<DivBackward0>) tensor(0.2915, device='cuda:0')\n",
      "235 tensor(0.1677, device='cuda:0', grad_fn=<DivBackward0>) tensor(0.3599, device='cuda:0')\n",
      "236 tensor(0.1694, device='cuda:0', grad_fn=<DivBackward0>) tensor(0.2829, device='cuda:0')\n",
      "237 tensor(0.1686, device='cuda:0', grad_fn=<DivBackward0>) tensor(0.2996, device='cuda:0')\n",
      "238 tensor(0.1708, device='cuda:0', grad_fn=<DivBackward0>) tensor(0.2481, device='cuda:0')\n",
      "239 tensor(0.1683, device='cuda:0', grad_fn=<DivBackward0>) tensor(0.2386, device='cuda:0')\n",
      "240 tensor(0.1677, device='cuda:0', grad_fn=<DivBackward0>) tensor(0.3209, device='cuda:0')\n",
      "241 tensor(0.1699, device='cuda:0', grad_fn=<DivBackward0>) tensor(0.2808, device='cuda:0')\n",
      "242 tensor(0.1675, device='cuda:0', grad_fn=<DivBackward0>) tensor(0.2523, device='cuda:0')\n",
      "Epoch   244: reducing learning rate of group 0 to 3.0518e-07.\n",
      "243 tensor(0.1675, device='cuda:0', grad_fn=<DivBackward0>) tensor(0.2792, device='cuda:0')\n",
      "244 tensor(0.1680, device='cuda:0', grad_fn=<DivBackward0>) tensor(0.2455, device='cuda:0')\n",
      "245 tensor(0.1669, device='cuda:0', grad_fn=<DivBackward0>) tensor(0.4785, device='cuda:0')\n",
      "246 tensor(0.1692, device='cuda:0', grad_fn=<DivBackward0>) tensor(0.2600, device='cuda:0')\n",
      "247 tensor(0.1683, device='cuda:0', grad_fn=<DivBackward0>) tensor(0.2742, device='cuda:0')\n",
      "248 tensor(0.1673, device='cuda:0', grad_fn=<DivBackward0>) tensor(0.2965, device='cuda:0')\n",
      "249 tensor(0.1667, device='cuda:0', grad_fn=<DivBackward0>) tensor(0.2407, device='cuda:0')\n",
      "250 tensor(0.1696, device='cuda:0', grad_fn=<DivBackward0>) tensor(0.2418, device='cuda:0')\n",
      "251 tensor(0.1677, device='cuda:0', grad_fn=<DivBackward0>) tensor(0.3410, device='cuda:0')\n",
      "252 tensor(0.1708, device='cuda:0', grad_fn=<DivBackward0>) tensor(0.2387, device='cuda:0')\n",
      "253 tensor(0.1673, device='cuda:0', grad_fn=<DivBackward0>) tensor(0.3071, device='cuda:0')\n",
      "Epoch   255: reducing learning rate of group 0 to 1.5259e-07.\n",
      "254 tensor(0.1684, device='cuda:0', grad_fn=<DivBackward0>) tensor(0.3229, device='cuda:0')\n",
      "255 tensor(0.1675, device='cuda:0', grad_fn=<DivBackward0>) tensor(0.2359, device='cuda:0')\n",
      "256 tensor(0.1671, device='cuda:0', grad_fn=<DivBackward0>) tensor(0.2437, device='cuda:0')\n",
      "257 tensor(0.1663, device='cuda:0', grad_fn=<DivBackward0>) tensor(0.3849, device='cuda:0')\n",
      "258 tensor(0.1679, device='cuda:0', grad_fn=<DivBackward0>) tensor(0.3004, device='cuda:0')\n",
      "259 tensor(0.1675, device='cuda:0', grad_fn=<DivBackward0>) tensor(0.3129, device='cuda:0')\n",
      "260 tensor(0.1675, device='cuda:0', grad_fn=<DivBackward0>) tensor(0.2416, device='cuda:0')\n",
      "261 tensor(0.1670, device='cuda:0', grad_fn=<DivBackward0>) tensor(0.3269, device='cuda:0')\n",
      "262 tensor(0.1685, device='cuda:0', grad_fn=<DivBackward0>) tensor(0.2367, device='cuda:0')\n",
      "263 tensor(0.1692, device='cuda:0', grad_fn=<DivBackward0>) tensor(0.2954, device='cuda:0')\n",
      "264 tensor(0.1679, device='cuda:0', grad_fn=<DivBackward0>) tensor(0.3831, device='cuda:0')\n",
      "Epoch   266: reducing learning rate of group 0 to 7.6294e-08.\n",
      "265 tensor(0.1704, device='cuda:0', grad_fn=<DivBackward0>) tensor(0.3674, device='cuda:0')\n",
      "266 tensor(0.1690, device='cuda:0', grad_fn=<DivBackward0>) tensor(0.3496, device='cuda:0')\n",
      "267 tensor(0.1683, device='cuda:0', grad_fn=<DivBackward0>) tensor(0.3222, device='cuda:0')\n",
      "268 tensor(0.1697, device='cuda:0', grad_fn=<DivBackward0>) tensor(0.2388, device='cuda:0')\n",
      "269 tensor(0.1680, device='cuda:0', grad_fn=<DivBackward0>) tensor(0.2401, device='cuda:0')\n",
      "270 tensor(0.1698, device='cuda:0', grad_fn=<DivBackward0>) tensor(0.2924, device='cuda:0')\n",
      "271 tensor(0.1681, device='cuda:0', grad_fn=<DivBackward0>) tensor(0.2499, device='cuda:0')\n",
      "272 tensor(0.1669, device='cuda:0', grad_fn=<DivBackward0>) tensor(0.2411, device='cuda:0')\n",
      "273 tensor(0.1680, device='cuda:0', grad_fn=<DivBackward0>) tensor(0.2844, device='cuda:0')\n",
      "274 tensor(0.1680, device='cuda:0', grad_fn=<DivBackward0>) tensor(0.2577, device='cuda:0')\n",
      "275 tensor(0.1675, device='cuda:0', grad_fn=<DivBackward0>) tensor(0.2825, device='cuda:0')\n",
      "Epoch   277: reducing learning rate of group 0 to 3.8147e-08.\n",
      "276 tensor(0.1683, device='cuda:0', grad_fn=<DivBackward0>) tensor(0.3056, device='cuda:0')\n",
      "277 tensor(0.1672, device='cuda:0', grad_fn=<DivBackward0>) tensor(0.2548, device='cuda:0')\n",
      "278 tensor(0.1666, device='cuda:0', grad_fn=<DivBackward0>) tensor(0.2391, device='cuda:0')\n",
      "279 tensor(0.1693, device='cuda:0', grad_fn=<DivBackward0>) tensor(0.2360, device='cuda:0')\n",
      "280 tensor(0.1658, device='cuda:0', grad_fn=<DivBackward0>) tensor(0.2540, device='cuda:0')\n",
      "281 tensor(0.1663, device='cuda:0', grad_fn=<DivBackward0>) tensor(0.2441, device='cuda:0')\n",
      "282 tensor(0.1669, device='cuda:0', grad_fn=<DivBackward0>) tensor(0.2499, device='cuda:0')\n",
      "283 tensor(0.1669, device='cuda:0', grad_fn=<DivBackward0>) tensor(0.2662, device='cuda:0')\n",
      "284 tensor(0.1690, device='cuda:0', grad_fn=<DivBackward0>) tensor(0.2471, device='cuda:0')\n",
      "285 tensor(0.1674, device='cuda:0', grad_fn=<DivBackward0>) tensor(0.2578, device='cuda:0')\n",
      "286 tensor(0.1683, device='cuda:0', grad_fn=<DivBackward0>) tensor(0.3761, device='cuda:0')\n",
      "Epoch   288: reducing learning rate of group 0 to 1.9073e-08.\n",
      "287 tensor(0.1666, device='cuda:0', grad_fn=<DivBackward0>) tensor(0.2395, device='cuda:0')\n",
      "288 tensor(0.1691, device='cuda:0', grad_fn=<DivBackward0>) tensor(0.3301, device='cuda:0')\n",
      "289 tensor(0.1686, device='cuda:0', grad_fn=<DivBackward0>) tensor(0.2383, device='cuda:0')\n",
      "290 tensor(0.1662, device='cuda:0', grad_fn=<DivBackward0>) tensor(0.2533, device='cuda:0')\n",
      "291 tensor(0.1679, device='cuda:0', grad_fn=<DivBackward0>) tensor(0.2456, device='cuda:0')\n",
      "292 tensor(0.1659, device='cuda:0', grad_fn=<DivBackward0>) tensor(0.2838, device='cuda:0')\n",
      "293 tensor(0.1670, device='cuda:0', grad_fn=<DivBackward0>) tensor(0.2873, device='cuda:0')\n",
      "294 tensor(0.1690, device='cuda:0', grad_fn=<DivBackward0>) tensor(0.3141, device='cuda:0')\n",
      "295 tensor(0.1684, device='cuda:0', grad_fn=<DivBackward0>) tensor(0.2460, device='cuda:0')\n",
      "296 tensor(0.1671, device='cuda:0', grad_fn=<DivBackward0>) tensor(0.2471, device='cuda:0')\n",
      "297 tensor(0.1676, device='cuda:0', grad_fn=<DivBackward0>) tensor(0.2631, device='cuda:0')\n",
      "298 tensor(0.1668, device='cuda:0', grad_fn=<DivBackward0>) tensor(0.3432, device='cuda:0')\n",
      "299 tensor(0.1708, device='cuda:0', grad_fn=<DivBackward0>) tensor(0.2381, device='cuda:0')\n",
      "300 tensor(0.1661, device='cuda:0', grad_fn=<DivBackward0>) tensor(0.2626, device='cuda:0')\n",
      "301 tensor(0.1672, device='cuda:0', grad_fn=<DivBackward0>) tensor(0.2426, device='cuda:0')\n",
      "302 tensor(0.1661, device='cuda:0', grad_fn=<DivBackward0>) tensor(0.3781, device='cuda:0')\n",
      "303 tensor(0.1684, device='cuda:0', grad_fn=<DivBackward0>) tensor(0.4163, device='cuda:0')\n",
      "304 tensor(0.1688, device='cuda:0', grad_fn=<DivBackward0>) tensor(0.3340, device='cuda:0')\n",
      "305 tensor(0.1679, device='cuda:0', grad_fn=<DivBackward0>) tensor(0.3607, device='cuda:0')\n",
      "306 tensor(0.1669, device='cuda:0', grad_fn=<DivBackward0>) tensor(0.3166, device='cuda:0')\n",
      "307 tensor(0.1708, device='cuda:0', grad_fn=<DivBackward0>) tensor(0.3546, device='cuda:0')\n",
      "308 tensor(0.1680, device='cuda:0', grad_fn=<DivBackward0>) tensor(0.3108, device='cuda:0')\n",
      "309 tensor(0.1669, device='cuda:0', grad_fn=<DivBackward0>) tensor(0.2545, device='cuda:0')\n",
      "310 tensor(0.1687, device='cuda:0', grad_fn=<DivBackward0>) tensor(0.3008, device='cuda:0')\n",
      "311 tensor(0.1712, device='cuda:0', grad_fn=<DivBackward0>) tensor(0.2344, device='cuda:0')\n",
      "312 tensor(0.1680, device='cuda:0', grad_fn=<DivBackward0>) tensor(0.2471, device='cuda:0')\n",
      "313 tensor(0.1668, device='cuda:0', grad_fn=<DivBackward0>) tensor(0.4934, device='cuda:0')\n",
      "314 tensor(0.1669, device='cuda:0', grad_fn=<DivBackward0>) tensor(0.3032, device='cuda:0')\n",
      "315 tensor(0.1684, device='cuda:0', grad_fn=<DivBackward0>) tensor(0.3065, device='cuda:0')\n",
      "316 tensor(0.1673, device='cuda:0', grad_fn=<DivBackward0>) tensor(0.2564, device='cuda:0')\n",
      "317 tensor(0.1688, device='cuda:0', grad_fn=<DivBackward0>) tensor(0.2448, device='cuda:0')\n",
      "318 tensor(0.1693, device='cuda:0', grad_fn=<DivBackward0>) tensor(0.2604, device='cuda:0')\n",
      "319 tensor(0.1693, device='cuda:0', grad_fn=<DivBackward0>) tensor(0.2496, device='cuda:0')\n",
      "320 tensor(0.1687, device='cuda:0', grad_fn=<DivBackward0>) tensor(0.2910, device='cuda:0')\n",
      "321 tensor(0.1683, device='cuda:0', grad_fn=<DivBackward0>) tensor(0.2797, device='cuda:0')\n",
      "322 tensor(0.1679, device='cuda:0', grad_fn=<DivBackward0>) tensor(0.2592, device='cuda:0')\n",
      "323 tensor(0.1669, device='cuda:0', grad_fn=<DivBackward0>) tensor(0.2565, device='cuda:0')\n",
      "324 tensor(0.1678, device='cuda:0', grad_fn=<DivBackward0>) tensor(0.2366, device='cuda:0')\n",
      "325 tensor(0.1681, device='cuda:0', grad_fn=<DivBackward0>) tensor(0.2594, device='cuda:0')\n",
      "326 tensor(0.1675, device='cuda:0', grad_fn=<DivBackward0>) tensor(0.2552, device='cuda:0')\n",
      "327 tensor(0.1698, device='cuda:0', grad_fn=<DivBackward0>) tensor(0.2610, device='cuda:0')\n",
      "328 tensor(0.1677, device='cuda:0', grad_fn=<DivBackward0>) tensor(0.2874, device='cuda:0')\n",
      "329 tensor(0.1671, device='cuda:0', grad_fn=<DivBackward0>) tensor(0.3359, device='cuda:0')\n",
      "330 tensor(0.1668, device='cuda:0', grad_fn=<DivBackward0>) tensor(0.3611, device='cuda:0')\n",
      "331 tensor(0.1680, device='cuda:0', grad_fn=<DivBackward0>) tensor(0.2521, device='cuda:0')\n",
      "332 tensor(0.1678, device='cuda:0', grad_fn=<DivBackward0>) tensor(0.3276, device='cuda:0')\n",
      "333 tensor(0.1682, device='cuda:0', grad_fn=<DivBackward0>) tensor(0.2551, device='cuda:0')\n",
      "334 tensor(0.1679, device='cuda:0', grad_fn=<DivBackward0>) tensor(0.3178, device='cuda:0')\n",
      "335 tensor(0.1699, device='cuda:0', grad_fn=<DivBackward0>) tensor(0.2410, device='cuda:0')\n",
      "336 tensor(0.1674, device='cuda:0', grad_fn=<DivBackward0>) tensor(0.3602, device='cuda:0')\n",
      "337 tensor(0.1680, device='cuda:0', grad_fn=<DivBackward0>) tensor(0.2527, device='cuda:0')\n",
      "338 tensor(0.1669, device='cuda:0', grad_fn=<DivBackward0>) tensor(0.3474, device='cuda:0')\n",
      "339 tensor(0.1677, device='cuda:0', grad_fn=<DivBackward0>) tensor(0.3022, device='cuda:0')\n",
      "340 tensor(0.1667, device='cuda:0', grad_fn=<DivBackward0>) tensor(0.3137, device='cuda:0')\n",
      "341 tensor(0.1664, device='cuda:0', grad_fn=<DivBackward0>) tensor(0.3349, device='cuda:0')\n",
      "342 tensor(0.1685, device='cuda:0', grad_fn=<DivBackward0>) tensor(0.2875, device='cuda:0')\n",
      "343 tensor(0.1668, device='cuda:0', grad_fn=<DivBackward0>) tensor(0.2366, device='cuda:0')\n",
      "344 tensor(0.1682, device='cuda:0', grad_fn=<DivBackward0>) tensor(0.4241, device='cuda:0')\n",
      "345 tensor(0.1666, device='cuda:0', grad_fn=<DivBackward0>) tensor(0.2887, device='cuda:0')\n",
      "346 tensor(0.1664, device='cuda:0', grad_fn=<DivBackward0>) tensor(0.3055, device='cuda:0')\n",
      "347 tensor(0.1688, device='cuda:0', grad_fn=<DivBackward0>) tensor(0.2456, device='cuda:0')\n",
      "348 tensor(0.1669, device='cuda:0', grad_fn=<DivBackward0>) tensor(0.2663, device='cuda:0')\n",
      "349 tensor(0.1664, device='cuda:0', grad_fn=<DivBackward0>) tensor(0.2365, device='cuda:0')\n",
      "350 tensor(0.1683, device='cuda:0', grad_fn=<DivBackward0>) tensor(0.2494, device='cuda:0')\n",
      "351 tensor(0.1687, device='cuda:0', grad_fn=<DivBackward0>) tensor(0.2965, device='cuda:0')\n",
      "352 tensor(0.1690, device='cuda:0', grad_fn=<DivBackward0>) tensor(0.4327, device='cuda:0')\n",
      "353 tensor(0.1679, device='cuda:0', grad_fn=<DivBackward0>) tensor(0.3017, device='cuda:0')\n",
      "354 tensor(0.1682, device='cuda:0', grad_fn=<DivBackward0>) tensor(0.3108, device='cuda:0')\n",
      "355 tensor(0.1693, device='cuda:0', grad_fn=<DivBackward0>) tensor(0.5249, device='cuda:0')\n",
      "356 tensor(0.1685, device='cuda:0', grad_fn=<DivBackward0>) tensor(0.2687, device='cuda:0')\n",
      "357 tensor(0.1674, device='cuda:0', grad_fn=<DivBackward0>) tensor(0.2486, device='cuda:0')\n",
      "358 tensor(0.1683, device='cuda:0', grad_fn=<DivBackward0>) tensor(0.3172, device='cuda:0')\n",
      "359 tensor(0.1685, device='cuda:0', grad_fn=<DivBackward0>) tensor(0.3370, device='cuda:0')\n",
      "360 tensor(0.1667, device='cuda:0', grad_fn=<DivBackward0>) tensor(0.3328, device='cuda:0')\n",
      "361 tensor(0.1672, device='cuda:0', grad_fn=<DivBackward0>) tensor(0.2420, device='cuda:0')\n",
      "362 tensor(0.1677, device='cuda:0', grad_fn=<DivBackward0>) tensor(0.3390, device='cuda:0')\n",
      "363 tensor(0.1677, device='cuda:0', grad_fn=<DivBackward0>) tensor(0.2501, device='cuda:0')\n",
      "364 tensor(0.1698, device='cuda:0', grad_fn=<DivBackward0>) tensor(0.2357, device='cuda:0')\n",
      "365 tensor(0.1684, device='cuda:0', grad_fn=<DivBackward0>) tensor(0.2789, device='cuda:0')\n",
      "366 tensor(0.1685, device='cuda:0', grad_fn=<DivBackward0>) tensor(0.2650, device='cuda:0')\n",
      "367 tensor(0.1679, device='cuda:0', grad_fn=<DivBackward0>) tensor(0.2879, device='cuda:0')\n",
      "368 tensor(0.1689, device='cuda:0', grad_fn=<DivBackward0>) tensor(0.2490, device='cuda:0')\n",
      "369 tensor(0.1667, device='cuda:0', grad_fn=<DivBackward0>) tensor(0.3513, device='cuda:0')\n",
      "370 tensor(0.1690, device='cuda:0', grad_fn=<DivBackward0>) tensor(0.2857, device='cuda:0')\n",
      "371 tensor(0.1666, device='cuda:0', grad_fn=<DivBackward0>) tensor(0.2821, device='cuda:0')\n",
      "372 tensor(0.1672, device='cuda:0', grad_fn=<DivBackward0>) tensor(0.3691, device='cuda:0')\n",
      "373 tensor(0.1673, device='cuda:0', grad_fn=<DivBackward0>) tensor(0.2771, device='cuda:0')\n",
      "374 tensor(0.1682, device='cuda:0', grad_fn=<DivBackward0>) tensor(0.3201, device='cuda:0')\n",
      "375 tensor(0.1691, device='cuda:0', grad_fn=<DivBackward0>) tensor(0.2392, device='cuda:0')\n",
      "376 tensor(0.1674, device='cuda:0', grad_fn=<DivBackward0>) tensor(0.2504, device='cuda:0')\n",
      "377 tensor(0.1671, device='cuda:0', grad_fn=<DivBackward0>) tensor(0.3315, device='cuda:0')\n",
      "378 tensor(0.1687, device='cuda:0', grad_fn=<DivBackward0>) tensor(0.2913, device='cuda:0')\n",
      "379 tensor(0.1682, device='cuda:0', grad_fn=<DivBackward0>) tensor(0.2374, device='cuda:0')\n",
      "380 tensor(0.1671, device='cuda:0', grad_fn=<DivBackward0>) tensor(0.2622, device='cuda:0')\n",
      "381 tensor(0.1664, device='cuda:0', grad_fn=<DivBackward0>) tensor(0.2515, device='cuda:0')\n",
      "382 tensor(0.1677, device='cuda:0', grad_fn=<DivBackward0>) tensor(0.2399, device='cuda:0')\n",
      "383 tensor(0.1678, device='cuda:0', grad_fn=<DivBackward0>) tensor(0.3386, device='cuda:0')\n",
      "384 tensor(0.1668, device='cuda:0', grad_fn=<DivBackward0>) tensor(0.3280, device='cuda:0')\n",
      "385 tensor(0.1679, device='cuda:0', grad_fn=<DivBackward0>) tensor(0.2397, device='cuda:0')\n",
      "386 tensor(0.1673, device='cuda:0', grad_fn=<DivBackward0>) tensor(0.2466, device='cuda:0')\n",
      "387 tensor(0.1698, device='cuda:0', grad_fn=<DivBackward0>) tensor(0.2455, device='cuda:0')\n",
      "388 tensor(0.1673, device='cuda:0', grad_fn=<DivBackward0>) tensor(0.3300, device='cuda:0')\n",
      "389 tensor(0.1690, device='cuda:0', grad_fn=<DivBackward0>) tensor(0.2759, device='cuda:0')\n",
      "390 tensor(0.1686, device='cuda:0', grad_fn=<DivBackward0>) tensor(0.3021, device='cuda:0')\n",
      "391 tensor(0.1663, device='cuda:0', grad_fn=<DivBackward0>) tensor(0.2598, device='cuda:0')\n",
      "392 tensor(0.1697, device='cuda:0', grad_fn=<DivBackward0>) tensor(0.3505, device='cuda:0')\n",
      "393 tensor(0.1706, device='cuda:0', grad_fn=<DivBackward0>) tensor(0.4304, device='cuda:0')\n",
      "394 tensor(0.1675, device='cuda:0', grad_fn=<DivBackward0>) tensor(0.3614, device='cuda:0')\n",
      "395 tensor(0.1668, device='cuda:0', grad_fn=<DivBackward0>) tensor(0.2871, device='cuda:0')\n",
      "396 tensor(0.1698, device='cuda:0', grad_fn=<DivBackward0>) tensor(0.3246, device='cuda:0')\n",
      "397 tensor(0.1683, device='cuda:0', grad_fn=<DivBackward0>) tensor(0.2799, device='cuda:0')\n",
      "398 tensor(0.1677, device='cuda:0', grad_fn=<DivBackward0>) tensor(0.3451, device='cuda:0')\n",
      "399 tensor(0.1684, device='cuda:0', grad_fn=<DivBackward0>) tensor(0.3388, device='cuda:0')\n",
      "400 tensor(0.1681, device='cuda:0', grad_fn=<DivBackward0>) tensor(0.2693, device='cuda:0')\n",
      "401 tensor(0.1674, device='cuda:0', grad_fn=<DivBackward0>) tensor(0.2455, device='cuda:0')\n",
      "402 tensor(0.1688, device='cuda:0', grad_fn=<DivBackward0>) tensor(0.2601, device='cuda:0')\n",
      "403 tensor(0.1701, device='cuda:0', grad_fn=<DivBackward0>) tensor(0.2406, device='cuda:0')\n",
      "404 tensor(0.1677, device='cuda:0', grad_fn=<DivBackward0>) tensor(0.2366, device='cuda:0')\n",
      "405 tensor(0.1674, device='cuda:0', grad_fn=<DivBackward0>) tensor(0.2502, device='cuda:0')\n",
      "406 tensor(0.1673, device='cuda:0', grad_fn=<DivBackward0>) tensor(0.2498, device='cuda:0')\n",
      "407 tensor(0.1678, device='cuda:0', grad_fn=<DivBackward0>) tensor(0.3121, device='cuda:0')\n",
      "408 tensor(0.1672, device='cuda:0', grad_fn=<DivBackward0>) tensor(0.2789, device='cuda:0')\n",
      "409 tensor(0.1686, device='cuda:0', grad_fn=<DivBackward0>) tensor(0.2978, device='cuda:0')\n",
      "410 tensor(0.1660, device='cuda:0', grad_fn=<DivBackward0>) tensor(0.2629, device='cuda:0')\n",
      "411 tensor(0.1690, device='cuda:0', grad_fn=<DivBackward0>) tensor(0.2852, device='cuda:0')\n",
      "412 tensor(0.1671, device='cuda:0', grad_fn=<DivBackward0>) tensor(0.2547, device='cuda:0')\n",
      "413 tensor(0.1690, device='cuda:0', grad_fn=<DivBackward0>) tensor(0.3108, device='cuda:0')\n",
      "414 tensor(0.1673, device='cuda:0', grad_fn=<DivBackward0>) tensor(0.2778, device='cuda:0')\n",
      "415 tensor(0.1679, device='cuda:0', grad_fn=<DivBackward0>) tensor(0.3134, device='cuda:0')\n",
      "416 tensor(0.1679, device='cuda:0', grad_fn=<DivBackward0>) tensor(0.2612, device='cuda:0')\n",
      "417 tensor(0.1683, device='cuda:0', grad_fn=<DivBackward0>) tensor(0.3099, device='cuda:0')\n",
      "418 tensor(0.1685, device='cuda:0', grad_fn=<DivBackward0>) tensor(0.3243, device='cuda:0')\n",
      "419 tensor(0.1675, device='cuda:0', grad_fn=<DivBackward0>) tensor(0.2412, device='cuda:0')\n",
      "420 tensor(0.1673, device='cuda:0', grad_fn=<DivBackward0>) tensor(0.3507, device='cuda:0')\n",
      "421 tensor(0.1667, device='cuda:0', grad_fn=<DivBackward0>) tensor(0.3568, device='cuda:0')\n",
      "422 tensor(0.1670, device='cuda:0', grad_fn=<DivBackward0>) tensor(0.3478, device='cuda:0')\n",
      "423 tensor(0.1666, device='cuda:0', grad_fn=<DivBackward0>) tensor(0.3303, device='cuda:0')\n",
      "424 tensor(0.1680, device='cuda:0', grad_fn=<DivBackward0>) tensor(0.2354, device='cuda:0')\n",
      "425 tensor(0.1677, device='cuda:0', grad_fn=<DivBackward0>) tensor(0.2361, device='cuda:0')\n",
      "426 tensor(0.1666, device='cuda:0', grad_fn=<DivBackward0>) tensor(0.2567, device='cuda:0')\n",
      "427 tensor(0.1687, device='cuda:0', grad_fn=<DivBackward0>) tensor(0.2432, device='cuda:0')\n",
      "428 tensor(0.1678, device='cuda:0', grad_fn=<DivBackward0>) tensor(0.2692, device='cuda:0')\n",
      "429 tensor(0.1668, device='cuda:0', grad_fn=<DivBackward0>) tensor(0.2493, device='cuda:0')\n",
      "430 tensor(0.1694, device='cuda:0', grad_fn=<DivBackward0>) tensor(0.2627, device='cuda:0')\n",
      "431 tensor(0.1667, device='cuda:0', grad_fn=<DivBackward0>) tensor(0.2572, device='cuda:0')\n",
      "432 tensor(0.1675, device='cuda:0', grad_fn=<DivBackward0>) tensor(0.3374, device='cuda:0')\n",
      "433 tensor(0.1682, device='cuda:0', grad_fn=<DivBackward0>) tensor(0.2420, device='cuda:0')\n",
      "434 tensor(0.1701, device='cuda:0', grad_fn=<DivBackward0>) tensor(0.3470, device='cuda:0')\n",
      "435 tensor(0.1683, device='cuda:0', grad_fn=<DivBackward0>) tensor(0.2370, device='cuda:0')\n",
      "436 tensor(0.1701, device='cuda:0', grad_fn=<DivBackward0>) tensor(0.2354, device='cuda:0')\n",
      "437 tensor(0.1668, device='cuda:0', grad_fn=<DivBackward0>) tensor(0.2656, device='cuda:0')\n",
      "438 tensor(0.1677, device='cuda:0', grad_fn=<DivBackward0>) tensor(0.2410, device='cuda:0')\n",
      "439 tensor(0.1688, device='cuda:0', grad_fn=<DivBackward0>) tensor(0.2923, device='cuda:0')\n",
      "440 tensor(0.1675, device='cuda:0', grad_fn=<DivBackward0>) tensor(0.2678, device='cuda:0')\n",
      "441 tensor(0.1705, device='cuda:0', grad_fn=<DivBackward0>) tensor(0.2436, device='cuda:0')\n",
      "442 tensor(0.1688, device='cuda:0', grad_fn=<DivBackward0>) tensor(0.2549, device='cuda:0')\n",
      "443 tensor(0.1674, device='cuda:0', grad_fn=<DivBackward0>) tensor(0.2783, device='cuda:0')\n",
      "444 tensor(0.1691, device='cuda:0', grad_fn=<DivBackward0>) tensor(0.3806, device='cuda:0')\n",
      "445 tensor(0.1684, device='cuda:0', grad_fn=<DivBackward0>) tensor(0.2423, device='cuda:0')\n",
      "446 tensor(0.1693, device='cuda:0', grad_fn=<DivBackward0>) tensor(0.2965, device='cuda:0')\n",
      "447 tensor(0.1684, device='cuda:0', grad_fn=<DivBackward0>) tensor(0.3180, device='cuda:0')\n",
      "448 tensor(0.1696, device='cuda:0', grad_fn=<DivBackward0>) tensor(0.3463, device='cuda:0')\n",
      "449 tensor(0.1681, device='cuda:0', grad_fn=<DivBackward0>) tensor(0.2645, device='cuda:0')\n",
      "450 tensor(0.1667, device='cuda:0', grad_fn=<DivBackward0>) tensor(0.4141, device='cuda:0')\n",
      "451 tensor(0.1702, device='cuda:0', grad_fn=<DivBackward0>) tensor(0.3591, device='cuda:0')\n",
      "452 tensor(0.1689, device='cuda:0', grad_fn=<DivBackward0>) tensor(0.2668, device='cuda:0')\n",
      "453 tensor(0.1678, device='cuda:0', grad_fn=<DivBackward0>) tensor(0.3441, device='cuda:0')\n",
      "454 tensor(0.1672, device='cuda:0', grad_fn=<DivBackward0>) tensor(0.3128, device='cuda:0')\n",
      "455 tensor(0.1697, device='cuda:0', grad_fn=<DivBackward0>) tensor(0.2522, device='cuda:0')\n",
      "456 tensor(0.1693, device='cuda:0', grad_fn=<DivBackward0>) tensor(0.4266, device='cuda:0')\n",
      "457 tensor(0.1677, device='cuda:0', grad_fn=<DivBackward0>) tensor(0.2738, device='cuda:0')\n",
      "458 tensor(0.1675, device='cuda:0', grad_fn=<DivBackward0>) tensor(0.2603, device='cuda:0')\n",
      "459 tensor(0.1676, device='cuda:0', grad_fn=<DivBackward0>) tensor(0.3234, device='cuda:0')\n",
      "460 tensor(0.1684, device='cuda:0', grad_fn=<DivBackward0>) tensor(0.3277, device='cuda:0')\n",
      "461 tensor(0.1679, device='cuda:0', grad_fn=<DivBackward0>) tensor(0.2652, device='cuda:0')\n",
      "462 tensor(0.1687, device='cuda:0', grad_fn=<DivBackward0>) tensor(0.2396, device='cuda:0')\n",
      "463 tensor(0.1683, device='cuda:0', grad_fn=<DivBackward0>) tensor(0.3301, device='cuda:0')\n",
      "464 tensor(0.1664, device='cuda:0', grad_fn=<DivBackward0>) tensor(0.3626, device='cuda:0')\n",
      "465 tensor(0.1668, device='cuda:0', grad_fn=<DivBackward0>) tensor(0.2372, device='cuda:0')\n",
      "466 tensor(0.1688, device='cuda:0', grad_fn=<DivBackward0>) tensor(0.4436, device='cuda:0')\n",
      "467 tensor(0.1679, device='cuda:0', grad_fn=<DivBackward0>) tensor(0.2351, device='cuda:0')\n",
      "468 tensor(0.1676, device='cuda:0', grad_fn=<DivBackward0>) tensor(0.2360, device='cuda:0')\n",
      "469 tensor(0.1664, device='cuda:0', grad_fn=<DivBackward0>) tensor(0.2872, device='cuda:0')\n",
      "470 tensor(0.1688, device='cuda:0', grad_fn=<DivBackward0>) tensor(0.2516, device='cuda:0')\n",
      "471 tensor(0.1677, device='cuda:0', grad_fn=<DivBackward0>) tensor(0.3214, device='cuda:0')\n",
      "472 tensor(0.1690, device='cuda:0', grad_fn=<DivBackward0>) tensor(0.3173, device='cuda:0')\n",
      "473 tensor(0.1705, device='cuda:0', grad_fn=<DivBackward0>) tensor(0.2345, device='cuda:0')\n",
      "474 tensor(0.1675, device='cuda:0', grad_fn=<DivBackward0>) tensor(0.2939, device='cuda:0')\n",
      "475 tensor(0.1677, device='cuda:0', grad_fn=<DivBackward0>) tensor(0.2640, device='cuda:0')\n",
      "476 tensor(0.1667, device='cuda:0', grad_fn=<DivBackward0>) tensor(0.3088, device='cuda:0')\n",
      "477 tensor(0.1667, device='cuda:0', grad_fn=<DivBackward0>) tensor(0.2590, device='cuda:0')\n",
      "478 tensor(0.1680, device='cuda:0', grad_fn=<DivBackward0>) tensor(0.3081, device='cuda:0')\n",
      "479 tensor(0.1670, device='cuda:0', grad_fn=<DivBackward0>) tensor(0.2698, device='cuda:0')\n",
      "480 tensor(0.1665, device='cuda:0', grad_fn=<DivBackward0>) tensor(0.3305, device='cuda:0')\n",
      "481 tensor(0.1683, device='cuda:0', grad_fn=<DivBackward0>) tensor(0.2552, device='cuda:0')\n",
      "482 tensor(0.1691, device='cuda:0', grad_fn=<DivBackward0>) tensor(0.2447, device='cuda:0')\n",
      "483 tensor(0.1664, device='cuda:0', grad_fn=<DivBackward0>) tensor(0.3315, device='cuda:0')\n",
      "484 tensor(0.1667, device='cuda:0', grad_fn=<DivBackward0>) tensor(0.2410, device='cuda:0')\n",
      "485 tensor(0.1676, device='cuda:0', grad_fn=<DivBackward0>) tensor(0.2393, device='cuda:0')\n",
      "486 tensor(0.1679, device='cuda:0', grad_fn=<DivBackward0>) tensor(0.2695, device='cuda:0')\n",
      "487 tensor(0.1675, device='cuda:0', grad_fn=<DivBackward0>) tensor(0.3401, device='cuda:0')\n",
      "488 tensor(0.1677, device='cuda:0', grad_fn=<DivBackward0>) tensor(0.2551, device='cuda:0')\n",
      "489 tensor(0.1680, device='cuda:0', grad_fn=<DivBackward0>) tensor(0.2782, device='cuda:0')\n",
      "490 tensor(0.1688, device='cuda:0', grad_fn=<DivBackward0>) tensor(0.2480, device='cuda:0')\n",
      "491 tensor(0.1685, device='cuda:0', grad_fn=<DivBackward0>) tensor(0.2543, device='cuda:0')\n",
      "492 tensor(0.1688, device='cuda:0', grad_fn=<DivBackward0>) tensor(0.2988, device='cuda:0')\n",
      "493 tensor(0.1681, device='cuda:0', grad_fn=<DivBackward0>) tensor(0.3005, device='cuda:0')\n",
      "494 tensor(0.1701, device='cuda:0', grad_fn=<DivBackward0>) tensor(0.3069, device='cuda:0')\n",
      "495 tensor(0.1682, device='cuda:0', grad_fn=<DivBackward0>) tensor(0.2392, device='cuda:0')\n",
      "496 tensor(0.1670, device='cuda:0', grad_fn=<DivBackward0>) tensor(0.2539, device='cuda:0')\n",
      "497 tensor(0.1670, device='cuda:0', grad_fn=<DivBackward0>) tensor(0.3598, device='cuda:0')\n",
      "498 tensor(0.1677, device='cuda:0', grad_fn=<DivBackward0>) tensor(0.2583, device='cuda:0')\n",
      "499 tensor(0.1677, device='cuda:0', grad_fn=<DivBackward0>) tensor(0.2469, device='cuda:0')\n"
     ]
    }
   ],
   "source": [
    "print(\"epoch\", \"train loss\", \"validation loss\")\n",
    "\n",
    "val_loss_curve = []\n",
    "train_loss_curve = []\n",
    "\n",
    "for epoch in range(500):\n",
    "    \n",
    "    # Compute train your model on training data\n",
    "    epoch_loss = train(model, train_loader, optimizer, device=device)\n",
    "    \n",
    "    # Validate your on validation data \n",
    "    val_loss = validate(model, val_loader, device=device) \n",
    "    \n",
    "    # Record train and loss performance \n",
    "    train_loss_curve.append(epoch_loss)\n",
    "    val_loss_curve.append(val_loss)\n",
    "    \n",
    "    # The learning rate scheduler record the validation loss \n",
    "    scheduler.step(val_loss)\n",
    "    \n",
    "    print(epoch, epoch_loss, val_loss)"
   ]
  },
  {
   "cell_type": "markdown",
   "metadata": {
    "id": "jQKie8p3DhEQ"
   },
   "source": [
    "Plot train and test curve "
   ]
  },
  {
   "cell_type": "code",
   "execution_count": 222,
   "metadata": {
    "colab": {
     "base_uri": "https://localhost:8080/",
     "height": 282
    },
    "executionInfo": {
     "elapsed": 445,
     "status": "ok",
     "timestamp": 1617671839850,
     "user": {
      "displayName": "Dionysios Sema",
      "photoUrl": "",
      "userId": "09686118763046775361"
     },
     "user_tz": 240
    },
    "id": "x_2Dtb9XDhER",
    "outputId": "e1fdddb4-d6e3-462d-9147-5cb9b026f8be"
   },
   "outputs": [
    {
     "data": {
      "text/plain": [
       "<matplotlib.legend.Legend at 0x7f4021bfef10>"
      ]
     },
     "execution_count": 222,
     "metadata": {
      "tags": []
     },
     "output_type": "execute_result"
    },
    {
     "data": {
      "image/png": "[encoded data removed]",
      "text/plain": [
       "<Figure size 432x288 with 1 Axes>"
      ]
     },
     "metadata": {
      "needs_background": "light",
      "tags": []
     },
     "output_type": "display_data"
    }
   ],
   "source": [
    "import matplotlib.pyplot as plt\n",
    "\n",
    "plt.plot(val_loss_curve)\n",
    "plt.plot(train_loss_curve)\n",
    "plt.legend(['Validation loss curve', 'Training loss curve'])"
   ]
  },
  {
   "cell_type": "markdown",
   "metadata": {
    "id": "pZ4v5TcJDhER"
   },
   "source": [
    "Report AUC score on test data "
   ]
  },
  {
   "cell_type": "code",
   "execution_count": 227,
   "metadata": {
    "colab": {
     "base_uri": "https://localhost:8080/"
    },
    "executionInfo": {
     "elapsed": 197,
     "status": "ok",
     "timestamp": 1617671850611,
     "user": {
      "displayName": "Dionysios Sema",
      "photoUrl": "",
      "userId": "09686118763046775361"
     },
     "user_tz": 240
    },
    "id": "yPVhJodpDhER",
    "outputId": "f7439dfd-aa97-4e3c-f92a-8d02c7aa6b60"
   },
   "outputs": [
    {
     "name": "stdout",
     "output_type": "stream",
     "text": [
      "AUC on the test dataset is 0.955923935730641\n"
     ]
    }
   ],
   "source": [
    "# Code to compute AUC on test data \n",
    "from sklearn.metrics import roc_auc_score\n",
    "\n",
    "def test_AUC(model, dataloader, device):\n",
    "\n",
    "  size = len(dataloader)\n",
    "  test_score = 0\n",
    "  model.eval() # Set model to evaluation mode\n",
    "  \n",
    "  for batch in dataloader:\n",
    "    seq, label = batch\n",
    "    seq = seq.to(device)\n",
    "    \n",
    "    pred = model(seq)\n",
    "    test_score += roc_auc_score(label, pred.cpu().detach().numpy())\n",
    "  \n",
    "  test_score /= size\n",
    "  return test_score\n",
    "\n",
    "test_score = test_AUC(model, test_loader, device=device)\n",
    "\n",
    "print(\"AUC on the test dataset is {}\".format(test_score) ) "
   ]
  },
  {
   "cell_type": "markdown",
   "metadata": {
    "id": "0J97uonsDhES"
   },
   "source": [
    "# Dimension Reductions for Molecular Representations"
   ]
  },
  {
   "cell_type": "code",
   "execution_count": 1,
   "metadata": {
    "colab": {
     "base_uri": "https://localhost:8080/"
    },
    "executionInfo": {
     "elapsed": 4257,
     "status": "ok",
     "timestamp": 1617681219620,
     "user": {
      "displayName": "Dionysios Sema",
      "photoUrl": "",
      "userId": "09686118763046775361"
     },
     "user_tz": 240
    },
    "id": "suR1QlqsDhES",
    "outputId": "f06b0e40-2f6b-47f6-ec1c-18fa2de3a774"
   },
   "outputs": [
    {
     "name": "stdout",
     "output_type": "stream",
     "text": [
      "--2021-04-06 03:53:35--  https://raw.githubusercontent.com/wwang2/ML4MolEng/master/psets/ps3/data/drug.csv\n",
      "Resolving raw.githubusercontent.com (raw.githubusercontent.com)... 185.199.108.133, 185.199.109.133, 185.199.110.133, ...\n",
      "Connecting to raw.githubusercontent.com (raw.githubusercontent.com)|185.199.108.133|:443... connected.\n",
      "HTTP request sent, awaiting response... 200 OK\n",
      "Length: 314383 (307K) [text/plain]\n",
      "Saving to: ‘drug.csv’\n",
      "\n",
      "drug.csv            100%[===================>] 307.01K  --.-KB/s    in 0.02s   \n",
      "\n",
      "2021-04-06 03:53:35 (17.8 MB/s) - ‘drug.csv’ saved [314383/314383]\n",
      "\n",
      "--2021-04-06 03:53:35--  https://raw.githubusercontent.com/wwang2/ML4MolEng/master/psets/ps3/data/morgan.csv\n",
      "Resolving raw.githubusercontent.com (raw.githubusercontent.com)... 185.199.108.133, 185.199.109.133, 185.199.110.133, ...\n",
      "Connecting to raw.githubusercontent.com (raw.githubusercontent.com)|185.199.108.133|:443... connected.\n",
      "HTTP request sent, awaiting response... 200 OK\n",
      "Length: 59251200 (57M) [text/plain]\n",
      "Saving to: ‘morgan.csv’\n",
      "\n",
      "morgan.csv          100%[===================>]  56.51M   167MB/s    in 0.3s    \n",
      "\n",
      "2021-04-06 03:53:39 (167 MB/s) - ‘morgan.csv’ saved [59251200/59251200]\n",
      "\n"
     ]
    }
   ],
   "source": [
    "! wget https://raw.githubusercontent.com/wwang2/ML4MolEng/master/psets/ps3/data/drug.csv\n",
    "! wget https://raw.githubusercontent.com/wwang2/ML4MolEng/master/psets/ps3/data/morgan.csv"
   ]
  },
  {
   "cell_type": "code",
   "execution_count": 2,
   "metadata": {
    "colab": {
     "base_uri": "https://localhost:8080/"
    },
    "executionInfo": {
     "elapsed": 6169,
     "status": "ok",
     "timestamp": 1617681226838,
     "user": {
      "displayName": "Dionysios Sema",
      "photoUrl": "",
      "userId": "09686118763046775361"
     },
     "user_tz": 240
    },
    "id": "lwYn4qH9DhET",
    "outputId": "065598a7-4033-4d5d-b8b8-a038871f475c"
   },
   "outputs": [
    {
     "name": "stdout",
     "output_type": "stream",
     "text": [
      "Using cuda:0 device\n",
      "(4629, 512)\n",
      "(4629, 3)\n"
     ]
    }
   ],
   "source": [
    "import pandas as pd \n",
    "import torch\n",
    "import numpy as np\n",
    "\n",
    "# Check if your GPU is requested successfully or not \n",
    "assert torch.cuda.device_count() != 0\n",
    "\n",
    "device = \"cuda:0\" if torch.cuda.is_available() else \"cpu\"\n",
    "print(\"Using {} device\".format(device))\n",
    "\n",
    "# load data \n",
    "df = pd.read_csv(\"drug.csv\")\n",
    "fp = np.loadtxt('morgan.csv', delimiter=',')\n",
    "\n",
    "assert fp.shape[0] == df.shape[0]\n",
    "\n",
    "print(fp.shape)\n",
    "print(df.shape)\n"
   ]
  },
  {
   "cell_type": "markdown",
   "metadata": {
    "id": "qpr83LeKDhET"
   },
   "source": [
    "### 2.1 Principal Component Analysis on Molecular Fingerprints"
   ]
  },
  {
   "cell_type": "markdown",
   "metadata": {
    "id": "ol0MhxRvDhET"
   },
   "source": [
    "perform PCA to reduce data into vectors of 100 dimensions "
   ]
  },
  {
   "cell_type": "code",
   "execution_count": 3,
   "metadata": {
    "colab": {
     "base_uri": "https://localhost:8080/",
     "height": 296
    },
    "executionInfo": {
     "elapsed": 2414,
     "status": "ok",
     "timestamp": 1617681236134,
     "user": {
      "displayName": "Dionysios Sema",
      "photoUrl": "",
      "userId": "09686118763046775361"
     },
     "user_tz": 240
    },
    "id": "pC044IrUDhEU",
    "outputId": "4e2c02ba-063a-44a7-a868-473edabccc3b"
   },
   "outputs": [
    {
     "data": {
      "text/plain": [
       "<matplotlib.legend.Legend at 0x7f52356ec050>"
      ]
     },
     "execution_count": 3,
     "metadata": {
      "tags": []
     },
     "output_type": "execute_result"
    },
    {
     "data": {
      "image/png": "[encoded data removed]",
      "text/plain": [
       "<Figure size 432x288 with 1 Axes>"
      ]
     },
     "metadata": {
      "needs_background": "light",
      "tags": []
     },
     "output_type": "display_data"
    }
   ],
   "source": [
    "from sklearn.decomposition import PCA\n",
    "import matplotlib.pyplot as plt\n",
    "\n",
    "pca = PCA(n_components=100)\n",
    "fp_tr = pca.fit_transform(fp)\n",
    "\n",
    "is_active_fp_tr = fp_tr[df['is_active'].iloc[:]==1]\n",
    "is_not_active_fp_tr = fp_tr[df['is_active'].iloc[:]==0]\n",
    "\n",
    "comp1 = 0\n",
    "comp2 = 1\n",
    "plt.plot(is_not_active_fp_tr[:,comp1], is_not_active_fp_tr[:,comp2], 'o', label='Inactive Molecules')\n",
    "plt.plot(is_active_fp_tr[:,comp1], is_active_fp_tr[:,comp2], 'o', label='Active Molecules')\n",
    "plt.xlabel('Principal Component 1')\n",
    "plt.ylabel('Principal Component 2')\n",
    "plt.legend()\n"
   ]
  },
  {
   "cell_type": "code",
   "execution_count": 5,
   "metadata": {
    "colab": {
     "base_uri": "https://localhost:8080/",
     "height": 399
    },
    "executionInfo": {
     "elapsed": 1008,
     "status": "ok",
     "timestamp": 1617681406153,
     "user": {
      "displayName": "Dionysios Sema",
      "photoUrl": "",
      "userId": "09686118763046775361"
     },
     "user_tz": 240
    },
    "id": "dz4FchuZDhEV",
    "outputId": "2dcbbe03-6e9d-4181-afbc-ac3a59116527"
   },
   "outputs": [
    {
     "name": "stdout",
     "output_type": "stream",
     "text": [
      "From the 2D scatter plot it seems like the majority of active drugs\n",
      "have a positive value for the first principal component and a negative value\n",
      "for the second principal component.\n",
      "Therefore, we can say that the original characterstics of active drugs\n",
      "will likely be summarized into some new characteristics that have \n",
      "a positive first and a negative second principle component.\n"
     ]
    },
    {
     "data": {
      "image/png": "[encoded data removed]",
      "text/plain": [
       "<Figure size 432x288 with 2 Axes>"
      ]
     },
     "metadata": {
      "needs_background": "light",
      "tags": []
     },
     "output_type": "display_data"
    }
   ],
   "source": [
    "# Patterns in the distribution of active drugs from the 2D scatter plot\n",
    "# of the first 2 principal components.\n",
    "print('''From the 2D scatter plot it seems like the majority of active drugs\n",
    "have a positive value for the first principal component and a negative value\n",
    "for the second principal component.\n",
    "Therefore, we can say that the original characterstics of active drugs\n",
    "will likely be summarized into some new characteristics that have \n",
    "a positive first and a negative second principle component.''')\n",
    "\n",
    "cum_sum = np.cumsum(pca.explained_variance_ratio_)\n",
    "\n",
    "fig, ax1 = plt.subplots()\n",
    "\n",
    "color = 'tab:red'\n",
    "ax1.set_xlabel('Principal Component')\n",
    "ax1.set_ylabel('Proportion of Variance', color=color)\n",
    "ax1.plot(pca.explained_variance_ratio_[:], color=color)\n",
    "ax1.tick_params(axis='y', labelcolor=color)\n",
    "\n",
    "ax2 = ax1.twinx()  # instantiate a second axes that shares the same x-axis\n",
    "\n",
    "color = 'tab:blue'\n",
    "ax2.set_ylabel('Cumulative Proportion of Variance', color=color)  # we already handled the x-label with ax1\n",
    "ax2.plot(cum_sum, color=color)\n",
    "ax2.tick_params(axis='y', labelcolor=color)\n",
    "\n",
    "fig.tight_layout()  # otherwise the right y-label is slightly clipped\n",
    "\n",
    "plt.show()\n"
   ]
  },
  {
   "cell_type": "markdown",
   "metadata": {
    "id": "7XGLYC8jDhEW"
   },
   "source": [
    "### 2.2 T-SNE analysis on Molecular Fingerprints"
   ]
  },
  {
   "cell_type": "markdown",
   "metadata": {
    "id": "tJaXEWw7DhEX"
   },
   "source": [
    "Perform t-SNE anaylsis on the obtained principal components with three different perplexity values: 2, 50, 500"
   ]
  },
  {
   "cell_type": "code",
   "execution_count": 95,
   "metadata": {
    "colab": {
     "base_uri": "https://localhost:8080/",
     "height": 851
    },
    "executionInfo": {
     "elapsed": 310608,
     "status": "ok",
     "timestamp": 1617687564911,
     "user": {
      "displayName": "Dionysios Sema",
      "photoUrl": "",
      "userId": "09686118763046775361"
     },
     "user_tz": 240
    },
    "id": "Qpqf8lKFDhEX",
    "outputId": "aa8e7c90-0198-4cfa-8490-d11649007d63"
   },
   "outputs": [
    {
     "data": {
      "image/png": "[encoded data removed]",
      "text/plain": [
       "<Figure size 432x288 with 1 Axes>"
      ]
     },
     "metadata": {
      "needs_background": "light",
      "tags": []
     },
     "output_type": "display_data"
    },
    {
     "data": {
      "image/png": "[encoded data removed]",
      "text/plain": [
       "<Figure size 432x288 with 1 Axes>"
      ]
     },
     "metadata": {
      "needs_background": "light",
      "tags": []
     },
     "output_type": "display_data"
    },
    {
     "data": {
      "image/png": "[encoded data removed]",
      "text/plain": [
       "<Figure size 432x288 with 1 Axes>"
      ]
     },
     "metadata": {
      "needs_background": "light",
      "tags": []
     },
     "output_type": "display_data"
    }
   ],
   "source": [
    "from sklearn.manifold import TSNE\n",
    "\n",
    "tsne2 = TSNE(n_components=2, perplexity=2.0).fit_transform(fp_tr)\n",
    "tsne50 = TSNE(n_components=2, perplexity=50.0).fit_transform(fp_tr)\n",
    "tsne500 = TSNE(n_components=2, perplexity=500.0).fit_transform(fp_tr)\n",
    "\n",
    "is_active_tsne2 = tsne2[df['is_active'].iloc[:]==1]\n",
    "is_not_active_tsne2 = tsne2[df['is_active'].iloc[:]==0]\n",
    "\n",
    "is_active_tsne50 = tsne50[df['is_active'].iloc[:]==1]\n",
    "is_not_active_tsne50 = tsne50[df['is_active'].iloc[:]==0]\n",
    "\n",
    "is_active_tsne500 = tsne500[df['is_active'].iloc[:]==1]\n",
    "is_not_active_tsne500 = tsne500[df['is_active'].iloc[:]==0]\n",
    "\n",
    "comp1 = 0\n",
    "comp2 = 1\n",
    "\n",
    "fig1, ax1 = plt.subplots()\n",
    "ax1.plot(is_not_active_tsne2[:,comp1], is_not_active_tsne2[:,comp2], 'o', label='Inactive Molecules')\n",
    "ax1.plot(is_active_tsne2[:,comp1], is_active_tsne2[:,comp2], 'o', label='Active Molecules')\n",
    "ax1.set_title(\"Perplexity = 2\")\n",
    "ax1.set_xlabel('Principal Component 1')\n",
    "ax1.set_ylabel('Principal Component 2')\n",
    "ax1.legend(framealpha=0.1)\n",
    "\n",
    "fig2, ax2 = plt.subplots()\n",
    "ax2.plot(is_not_active_tsne50[:,comp1], is_not_active_tsne50[:,comp2], 'o', label='Inactive Molecules')\n",
    "ax2.plot(is_active_tsne50[:,comp1], is_active_tsne50[:,comp2], 'o', label='Active Molecules')\n",
    "ax2.set_title(\"Perplexity = 50\")\n",
    "ax2.set_xlabel('Principal Component 1')\n",
    "ax2.set_ylabel('Principal Component 2')\n",
    "ax2.legend(framealpha=0.1)\n",
    "\n",
    "fig3, ax3 = plt.subplots()\n",
    "ax3.plot(is_not_active_tsne500[:,comp1], is_not_active_tsne500[:,comp2], 'o', label='Inactive Molecules')\n",
    "ax3.plot(is_active_tsne500[:,comp1], is_active_tsne500[:,comp2], 'o', label='Active Molecules')\n",
    "ax3.set_title(\"Perplexity = 500\")\n",
    "ax3.set_xlabel('Principal Component 1')\n",
    "ax3.set_ylabel('Principal Component 2')\n",
    "ax3.legend(framealpha=0.1)\n",
    "\n",
    "plt.show()\n"
   ]
  },
  {
   "cell_type": "markdown",
   "metadata": {
    "id": "efXtmfuCDhEZ"
   },
   "source": [
    "### 2.3 Interpretation of low dimensional embeddings"
   ]
  },
  {
   "cell_type": "markdown",
   "metadata": {
    "id": "ZOdMhuyUDhEZ"
   },
   "source": [
    "Split the data into 10 folds. For each fold, train on the other 9 folds and validate."
   ]
  },
  {
   "cell_type": "code",
   "execution_count": 98,
   "metadata": {
    "executionInfo": {
     "elapsed": 3167,
     "status": "ok",
     "timestamp": 1617687590052,
     "user": {
      "displayName": "Dionysios Sema",
      "photoUrl": "",
      "userId": "09686118763046775361"
     },
     "user_tz": 240
    },
    "id": "7Q2Spo9MDhEa"
   },
   "outputs": [],
   "source": [
    "from sklearn.model_selection import KFold\n",
    "from sklearn.ensemble import RandomForestClassifier\n",
    "\n",
    "num_splits = 10\n",
    "\n",
    "kf = KFold(n_splits=num_splits, shuffle=True)\n",
    "\n",
    "active_label = df['is_active'].to_numpy()\n",
    "\n",
    "X_train=[]\n",
    "X_test=[]\n",
    "y_train=[]\n",
    "y_test=[]\n",
    "\n",
    "fold_train_idx = []\n",
    "fold_test_idx = []\n",
    "\n",
    "for train_index, test_index in kf.split(fp):\n",
    "  # Some book-keeping on the shuffled indices\n",
    "  fold_train_idx.append(train_index)\n",
    "  fold_test_idx.append(test_index)\n",
    "\n",
    "  # Split data\n",
    "  X_train.append(tsne50[train_index])\n",
    "  X_test.append(tsne50[test_index])\n",
    "  \n",
    "  y_train.append(active_label[train_index])\n",
    "  y_test.append(active_label[test_index])\n",
    "\n",
    "\n",
    "pred_label = []\n",
    "clf = []\n",
    "\n",
    "for idx in range(num_splits):\n",
    "  clf.append(RandomForestClassifier(n_estimators=100, max_depth=2))\n",
    "  clf[idx].fit(X_train[idx], y_train[idx])\n",
    "\n",
    "  pred_label.append(clf[idx].predict(X_test[idx]))\n"
   ]
  },
  {
   "cell_type": "code",
   "execution_count": 100,
   "metadata": {
    "executionInfo": {
     "elapsed": 963,
     "status": "ok",
     "timestamp": 1617687594976,
     "user": {
      "displayName": "Dionysios Sema",
      "photoUrl": "",
      "userId": "09686118763046775361"
     },
     "user_tz": 240
    },
    "id": "gE6Mvq2JDhEa"
   },
   "outputs": [],
   "source": [
    "\n",
    "classifier = []\n",
    "TP = []\n",
    "FP = []\n",
    "FN = []\n",
    "TN = []\n",
    "\n",
    "for split in range(num_splits):\n",
    "  for i, idx in enumerate(fold_test_idx[split]):\n",
    "\n",
    "    if pred_label[split][i]==1:\n",
    "      if y_test[split][i]==1:\n",
    "        classifier.append([idx, tsne50[idx][0], tsne50[idx][1], 'TP'])\n",
    "        TP.append([tsne50[idx][0], tsne50[idx][1]])\n",
    "      else:\n",
    "        classifier.append([idx, tsne50[idx][0], tsne50[idx][1], 'FP'])\n",
    "        FP.append([tsne50[idx][0], tsne50[idx][1]])\n",
    "    else:\n",
    "      if y_test[split][i]==1:\n",
    "        classifier.append([idx, tsne50[idx][0], tsne50[idx][1], 'FN'])\n",
    "        FN.append([tsne50[idx][0], tsne50[idx][1]])\n",
    "      else:\n",
    "        classifier.append([idx, tsne50[idx][0], tsne50[idx][1], 'TN'])\n",
    "        TN.append([tsne50[idx][0], tsne50[idx][1]])\n",
    "\n",
    "classifier.sort(key = lambda i: i[0])\n"
   ]
  },
  {
   "cell_type": "code",
   "execution_count": 101,
   "metadata": {
    "colab": {
     "base_uri": "https://localhost:8080/",
     "height": 363
    },
    "executionInfo": {
     "elapsed": 903,
     "status": "ok",
     "timestamp": 1617687597510,
     "user": {
      "displayName": "Dionysios Sema",
      "photoUrl": "",
      "userId": "09686118763046775361"
     },
     "user_tz": 240
    },
    "id": "JzAH39CVDhEb",
    "outputId": "00be1835-e4eb-48da-e074-524701d9a260"
   },
   "outputs": [
    {
     "name": "stdout",
     "output_type": "stream",
     "text": [
      "The number of True Positives is:  47\n",
      "The number of False Positives is:  0\n",
      "The number of True Negatives is:  4550\n",
      "The number of False Negatives is:  32\n"
     ]
    },
    {
     "data": {
      "image/png": "[encoded data removed]",
      "text/plain": [
       "<Figure size 432x288 with 1 Axes>"
      ]
     },
     "metadata": {
      "needs_background": "light",
      "tags": []
     },
     "output_type": "display_data"
    }
   ],
   "source": [
    "\n",
    "TP = np.array(TP)\n",
    "FP = np.array(FP)\n",
    "FN = np.array(FN)\n",
    "TN = np.array(TN)\n",
    "\n",
    "print(\"The number of True Positives is: \", len(TP))\n",
    "print(\"The number of False Positives is: \", len(FP))\n",
    "print(\"The number of True Negatives is: \", len(TN))\n",
    "print(\"The number of False Negatives is: \", len(FN))\n",
    "\n",
    "comp1 = 0\n",
    "comp2 = 1\n",
    "\n",
    "fig1, ax1 = plt.subplots()\n",
    "ax1.plot(TN[:,comp1], TN[:,comp2], 'o', label='True Negatives')\n",
    "ax1.plot(TP[:,comp1], TP[:,comp2], 'o', label='True Positives')\n",
    "ax1.plot(FN[:,comp1], FN[:,comp2], 'o', label='False Negatives')\n",
    "\n",
    "if FP.size > 0:\n",
    "  ax1.plot(FP[:,comp1], FP[:,comp2], 'o', label='False Positives')\n",
    "\n",
    "ax1.set_title(\"Perplexity = 50\")\n",
    "ax1.set_xlabel('Principal Component 1')\n",
    "ax1.set_ylabel('Principal Component 2')\n",
    "ax1.legend(framealpha=0.1)\n",
    "\n",
    "plt.show()"
   ]
  }
 ],
 "metadata": {
  "accelerator": "GPU",
  "colab": {
   "collapsed_sections": [],
   "name": "pset3_Sema.ipynb",
   "provenance": []
  },
  "kernelspec": {
   "display_name": "Python [conda env:ps3]",
   "language": "python",
   "name": "conda-env-ps3-py"
  },
  "language_info": {
   "codemirror_mode": {
    "name": "ipython",
    "version": 3
   },
   "file_extension": ".py",
   "mimetype": "text/x-python",
   "name": "python",
   "nbconvert_exporter": "python",
   "pygments_lexer": "ipython3",
   "version": "3.7.9"
  }
 },
 "nbformat": 4,
 "nbformat_minor": 1
}
