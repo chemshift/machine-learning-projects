{
 "cells": [
  {
   "cell_type": "markdown",
   "metadata": {
    "id": "wc_fzIDFu27D"
   },
   "source": [
    "#  <center> Representations of molecules <center>"
   ]
  },
  {
   "cell_type": "markdown",
   "metadata": {
    "id": "D86KaQiJu27R"
   },
   "source": [
    "## Graph Convolutional Nets "
   ]
  },
  {
   "cell_type": "code",
   "execution_count": null,
   "metadata": {
    "id": "Kh0SNwnEu27T"
   },
   "outputs": [],
   "source": [
    "import numpy as np\n",
    "from rdkit import Chem, DataStructs\n",
    "from rdkit.Chem import Descriptors,Crippen\n",
    "from rdkit.Chem import Draw\n",
    "from rdkit.Chem.Draw import IPythonConsole\n",
    "import pandas as pd\n",
    "import sys\n",
    "import torch \n",
    "from tqdm import tqdm\n",
    "import itertools\n",
    "\n",
    "from rdkit import RDLogger   \n",
    "RDLogger.DisableLog('rdApp.*') # turn off RDKit warning message "
   ]
  },
  {
   "cell_type": "markdown",
   "metadata": {
    "id": "6vuVsOhYu27U"
   },
   "source": [
    "### 1.1 Construct molecular graph datasets and dataloader"
   ]
  },
  {
   "cell_type": "code",
   "execution_count": null,
   "metadata": {
    "colab": {
     "base_uri": "https://localhost:8080/"
    },
    "executionInfo": {
     "elapsed": 3771,
     "status": "ok",
     "timestamp": 1619317930017,
     "user": {
      "displayName": "Dionysios Sema",
      "photoUrl": "",
      "userId": "09686118763046775361"
     },
     "user_tz": 240
    },
    "id": "ADhhYCE6dVsF",
    "outputId": "62ce4486-f6e8-4f0a-a0bc-a3a6060f65a4"
   },
   "outputs": [
    {
     "name": "stdout",
     "output_type": "stream",
     "text": [
      "100% [........................................................................] 30584525 / 30584525"
     ]
    },
    {
     "data": {
      "text/plain": [
       "'qm9 (3).csv'"
      ]
     },
     "execution_count": 6,
     "metadata": {
      "tags": []
     },
     "output_type": "execute_result"
    }
   ],
   "source": [
    "import wget\n",
    "wget.download( 'https://raw.githubusercontent.com/wwang2/ML4MolEng/master/psets/ps4/data/qm9.csv' )"
   ]
  },
  {
   "cell_type": "code",
   "execution_count": null,
   "metadata": {
    "id": "nq0h_UJxu27V"
   },
   "outputs": [],
   "source": [
    "# implement SMILES to graph function  \n",
    "def smiles2graph(smiles):\n",
    "    '''\n",
    "    Transfrom smiles into a list nodes (atomic number)\n",
    "    \n",
    "    Args: \n",
    "        smiles (str): SMILES strings\n",
    "    \n",
    "    return: \n",
    "        z(np.array), A (np.array): list of atomic numbers, adjancency matrix \n",
    "    '''\n",
    "    \n",
    "    mol = Chem.MolFromSmiles( smiles ) # no hydrogen \n",
    "    z = np.array( [atom.GetAtomicNum() for atom in mol.GetAtoms()] )\n",
    "    A = np.stack(Chem.GetAdjacencyMatrix(mol))\n",
    "    \n",
    "    return z, A"
   ]
  },
  {
   "cell_type": "code",
   "execution_count": null,
   "metadata": {
    "id": "YVSxuShzu27W"
   },
   "outputs": [],
   "source": [
    "class GraphDataset(torch.utils.data.Dataset):\n",
    "    def __init__(self,\n",
    "                 AtomicNum_list, \n",
    "                 Edge_list, \n",
    "                 Natom_list, \n",
    "                 y_list):\n",
    "        \n",
    "        '''\n",
    "        GraphDataset object\n",
    "        \n",
    "        Args: \n",
    "            z_list (list of torch.LongTensor)\n",
    "            a_list (list of torch.LongTensor)\n",
    "            N_list (list of int)\n",
    "            y_list (list of torch.FloatTensor)\n",
    "\n",
    "        '''\n",
    "        self.AtomicNum_list = AtomicNum_list # atomic number\n",
    "        self.Edge_list = Edge_list # edge list \n",
    "        self.Natom_list = Natom_list # Number of atoms \n",
    "        self.y_list = y_list # properties to predict \n",
    "\n",
    "    def __len__(self):\n",
    "        return len(self.Natom_list)\n",
    "\n",
    "    def __getitem__(self, idx):\n",
    "        \n",
    "        AtomicNum = torch.LongTensor(self.AtomicNum_list[idx])\n",
    "        Edge = torch.LongTensor(self.Edge_list[idx])\n",
    "        Natom = self.Natom_list[idx]\n",
    "        y = torch.Tensor(self.y_list[idx])\n",
    "        \n",
    "        return AtomicNum, Edge, Natom, y"
   ]
  },
  {
   "cell_type": "code",
   "execution_count": null,
   "metadata": {
    "id": "0lPCLjWpu27X"
   },
   "outputs": [],
   "source": [
    "def collate_graphs(batch):\n",
    "    '''Batch multiple graphs into one batched graph\n",
    "    \n",
    "    Args:\n",
    "    \n",
    "        batch (tuple): tuples of AtomicNum, Edge, Natom and y obtained from GraphDataset.__getitem__() \n",
    "        \n",
    "    Return \n",
    "        (tuple): Batched AtomicNum, Edge, Natom, y\n",
    "    \n",
    "    '''\n",
    "    \n",
    "    AtomicNum_batch = []\n",
    "    Edge_batch = []\n",
    "    Natom_batch = []\n",
    "    y_batch = []\n",
    "\n",
    "    cumulative_atoms = np.cumsum([0] + [b[2] for b in batch])[:-1]\n",
    "    \n",
    "    for i in range(len(batch)):\n",
    "        z, a, N, y = batch[i]\n",
    "        index_shift = cumulative_atoms[i]\n",
    "        a = a + index_shift\n",
    "        AtomicNum_batch.append(z) \n",
    "        Edge_batch.append(a)\n",
    "        Natom_batch.append(N)\n",
    "        y_batch.append(y)\n",
    "        \n",
    "    AtomicNum_batch = torch.cat(AtomicNum_batch)\n",
    "    Edge_batch = torch.cat(Edge_batch, dim=1)\n",
    "    Natom_batch = Natom_batch\n",
    "    y_batch = torch.cat(y_batch)\n",
    "    \n",
    "    return AtomicNum_batch, Edge_batch, Natom_batch, y_batch "
   ]
  },
  {
   "cell_type": "code",
   "execution_count": null,
   "metadata": {
    "id": "QplWbt60dVsJ"
   },
   "outputs": [],
   "source": [
    "import torch\n",
    "from sklearn.utils import shuffle\n",
    "\n",
    "df = pd.read_csv(\"qm9.csv\")\n",
    "df = shuffle(df).reset_index()\n",
    "\n",
    "AtomicNum_list = []\n",
    "Edge_list = []\n",
    "y_list = []\n",
    "Natom_list = []\n",
    "\n",
    "#y_list = list(df.loc[:,'alpha'].values)\n",
    "\n",
    "for idx, smiles in enumerate(df.iloc[:,2]):\n",
    "  z, A = smiles2graph(smiles)\n",
    "  AtomicNum_list.append(z)\n",
    "  A = A.nonzero()\n",
    "  Edge_list.append(A)\n",
    "  Natom_list.append(len(z))\n",
    "  y_list.append( np.array([df.loc[idx,'alpha']]) )\n"
   ]
  },
  {
   "cell_type": "code",
   "execution_count": null,
   "metadata": {
    "id": "DJ12zUxNrD87"
   },
   "outputs": [],
   "source": [
    "# Some conversions to tensors\n",
    "\n",
    "AtomicNum_list = [torch.LongTensor(item) for item in AtomicNum_list]\n",
    "\n",
    "Edge_list = [torch.LongTensor(item) for item in Edge_list]\n",
    "\n",
    "#y_list = torch.FloatTensor(y_list)\n",
    "\n",
    "y_list = [torch.FloatTensor(item) for item in y_list]\n"
   ]
  },
  {
   "cell_type": "markdown",
   "metadata": {
    "id": "t6uT_hHKdVsJ"
   },
   "source": [
    "Make train, valdiation, test datasets and dataloaders"
   ]
  },
  {
   "cell_type": "code",
   "execution_count": null,
   "metadata": {
    "id": "YvrFsZMnu27Y"
   },
   "outputs": [],
   "source": [
    "\n",
    "from sklearn.model_selection import train_test_split\n",
    "from torch.utils.data import DataLoader\n",
    "\n",
    "X_data = []\n",
    "for i in range(len(AtomicNum_list)):\n",
    "  X_data.append([AtomicNum_list[i], Edge_list[i], Natom_list[i]])\n",
    "\n",
    "# Split dataset to train/val/test ( Ratios: 0.8*0.875=0.7 / 0.8*0.125=0.1 / 0.2 )\n",
    "X, X_test, y, y_test = train_test_split(X_data, y_list, test_size=0.2)\n",
    "X_train, X_val, y_train, y_val = train_test_split(X, y, test_size=0.125)\n",
    "\n",
    "AtomicNum_train = []\n",
    "Edge_train = []\n",
    "Natom_train = []\n",
    "\n",
    "for i in range(len(X_train)):\n",
    "  AtomicNum_train.append(X_train[i][0])\n",
    "  Edge_train.append(X_train[i][1])\n",
    "  Natom_train.append(X_train[i][2])\n",
    "\n",
    "AtomicNum_val = []\n",
    "Edge_val = []\n",
    "Natom_val = []\n",
    "\n",
    "for i in range(len(X_val)):\n",
    "  AtomicNum_val.append(X_val[i][0])\n",
    "  Edge_val.append(X_val[i][1])\n",
    "  Natom_val.append(X_val[i][2])\n",
    "\n",
    "AtomicNum_test = []\n",
    "Edge_test = []\n",
    "Natom_test = []\n",
    "\n",
    "for i in range(len(X_test)):\n",
    "  AtomicNum_test.append(X_test[i][0])\n",
    "  Edge_test.append(X_test[i][1])\n",
    "  Natom_test.append(X_test[i][2])\n",
    "\n",
    "graph_train = GraphDataset(AtomicNum_train, Edge_train, Natom_train, y_train)\n",
    "graph_val = GraphDataset(AtomicNum_val, Edge_val, Natom_val, y_val)\n",
    "graph_test = GraphDataset(AtomicNum_test, Edge_test, Natom_test, y_test)\n",
    "\n",
    "# Build dataloader\n",
    "batchsize = 512\n",
    "train_loader = DataLoader(dataset=graph_train, batch_size=batchsize, shuffle=True, collate_fn=collate_graphs)\n",
    "val_loader = DataLoader(dataset=graph_val, batch_size=batchsize, shuffle=True, collate_fn=collate_graphs)\n",
    "test_loader = DataLoader(dataset=graph_test, batch_size=batchsize, shuffle=True, collate_fn=collate_graphs)\n"
   ]
  },
  {
   "cell_type": "markdown",
   "metadata": {
    "id": "pND0eELru27Y"
   },
   "source": [
    "### 1.2 Set up GNN"
   ]
  },
  {
   "cell_type": "code",
   "execution_count": null,
   "metadata": {
    "id": "07W6nUPkdVsK"
   },
   "outputs": [],
   "source": [
    "from itertools import repeat\n",
    "def scatter_add(src, index, dim_size, dim=-1, fill_value=0):\n",
    "    \n",
    "    '''\n",
    "    Sums all values from the src tensor into out at the indices specified in the index \n",
    "    tensor along a given axis dim. \n",
    "    '''\n",
    "    \n",
    "    index_size = list(repeat(1, src.dim()))\n",
    "    index_size[dim] = src.size(dim)\n",
    "    index = index.view(index_size).expand_as(src)\n",
    "    \n",
    "    dim = range(src.dim())[dim]\n",
    "    out_size = list(src.size())\n",
    "    out_size[dim] = dim_size\n",
    "\n",
    "    out = src.new_full(out_size, fill_value)\n",
    "\n",
    "    return out.scatter_add_(dim, index, src)"
   ]
  },
  {
   "cell_type": "code",
   "execution_count": null,
   "metadata": {
    "id": "8xjflAkwu27Y"
   },
   "outputs": [],
   "source": [
    "from torch import nn\n",
    "from torch.nn import ModuleDict\n",
    "\n",
    "class GNN(torch.nn.Module):\n",
    "    '''\n",
    "        A GNN model \n",
    "    '''\n",
    "    def __init__(self, n_convs=3, n_embed=64):\n",
    "        super(GNN, self).__init__()\n",
    "        self.atom_embed = nn.Embedding(100, n_embed)\n",
    "        # Declare MLPs in a ModuleList\n",
    "        self.convolutions = nn.ModuleList(\n",
    "            [ \n",
    "                ModuleDict({\n",
    "                    'update_mlp': nn.Sequential(nn.Linear(n_embed, n_embed), \n",
    "                                                nn.ReLU(), \n",
    "                                                nn.Linear(n_embed, n_embed)),\n",
    "                    'message_mlp': nn.Sequential(nn.Linear(n_embed, n_embed), \n",
    "                                                 nn.ReLU(), \n",
    "                                                 nn.Linear(n_embed, n_embed)) \n",
    "                })\n",
    "                for _ in range(n_convs)\n",
    "            ]\n",
    "            )\n",
    "        # Declare readout layers\n",
    "        self.readout = nn.Sequential(nn.Linear(n_embed, n_embed), nn.ReLU(), nn.Linear(n_embed, 1))\n",
    "\n",
    "    def forward(self, AtomicNum, Edge, Natom):\n",
    "        \n",
    "        # Parametrize embedding \n",
    "        h = self.atom_embed(AtomicNum) #eqn. 1\n",
    "\n",
    "        i = Edge[0]\n",
    "        j = Edge[1]\n",
    "\n",
    "        for conv in self.convolutions:\n",
    "          \n",
    "          hij = h[i] * h[j]\n",
    "          message_i2j = conv[\"message_mlp\"](hij)\n",
    "\n",
    "          node_message = scatter_add(src=message_i2j, index=Edge[1], dim=0, dim_size=len(AtomicNum))\n",
    "                       #+ scatter_add(src=message_i2j, index=Edge[0], dim=0, dim_size=len(AtomicNum))\n",
    "\n",
    "          h = h + conv[\"update_mlp\"](node_message)\n",
    "\n",
    "        h_split = self.readout(h)\n",
    "        output = torch.stack([torch.sum(split) for split in torch.split(h_split, Natom)], dim=0)\n",
    "        \n",
    "        return output"
   ]
  },
  {
   "cell_type": "markdown",
   "metadata": {
    "id": "PmypwqSlu27Z"
   },
   "source": [
    "### 1.3 Verify permutational invariance"
   ]
  },
  {
   "cell_type": "code",
   "execution_count": null,
   "metadata": {
    "id": "3F7-dv8su27Z"
   },
   "outputs": [],
   "source": [
    "def permute_graph(z, a, perm):\n",
    "    '''\n",
    "        permute the order of nodes in a molecular graph \n",
    "        \n",
    "        Args: \n",
    "            z(np.array): atomic number array\n",
    "            a(np.array): edge index pairs \n",
    "            \n",
    "        Return: \n",
    "            (np.array, np.array): permuted atomic number, and edge list \n",
    "    '''\n",
    "    \n",
    "    z = np.array(z)\n",
    "    perm = np.array(perm)\n",
    "    assert len(perm) == len(z)\n",
    "    \n",
    "    z_perm = z[perm]\n",
    "    a_perm = np.zeros(a.shape).astype(int)\n",
    "    \n",
    "    for i, edge in enumerate(a):\n",
    "        for j in range(len(edge)):\n",
    "            a_perm[i, j] = np.where(perm==edge[j])[0]\n",
    "    return z_perm, a_perm\n",
    "\n",
    "# node input\n",
    "AtomicNum_orig = np.array([6, 6, 8, 7])\n",
    "# edge input \n",
    "Edge_orig = np.array([[0, 0, 1, 2, 3, 0], [1, 2, 0, 0, 0, 3]] )\n",
    "# generate permutations\n",
    "permutation = itertools.permutations([0, 1 ,2, 3])"
   ]
  },
  {
   "cell_type": "markdown",
   "metadata": {
    "id": "bulr_8wadVsN"
   },
   "source": [
    "Test your model on permuted graph"
   ]
  },
  {
   "cell_type": "code",
   "execution_count": null,
   "metadata": {
    "colab": {
     "base_uri": "https://localhost:8080/"
    },
    "executionInfo": {
     "elapsed": 53057,
     "status": "ok",
     "timestamp": 1619318141253,
     "user": {
      "displayName": "Dionysios Sema",
      "photoUrl": "",
      "userId": "09686118763046775361"
     },
     "user_tz": 240
    },
    "id": "1t0AE5KndVsN",
    "outputId": "dd1e3c3a-6ed8-4726-f8ed-422249abface"
   },
   "outputs": [
    {
     "name": "stdout",
     "output_type": "stream",
     "text": [
      "model output: [-1.32977] for perumutation: (0, 1, 2, 3)\n",
      "model output: [-1.32977] for perumutation: (0, 1, 3, 2)\n",
      "model output: [-1.32977] for perumutation: (0, 2, 1, 3)\n",
      "model output: [-1.32977] for perumutation: (0, 2, 3, 1)\n",
      "model output: [-1.32977] for perumutation: (0, 3, 1, 2)\n",
      "model output: [-1.32977] for perumutation: (0, 3, 2, 1)\n",
      "model output: [-1.32977] for perumutation: (1, 0, 2, 3)\n",
      "model output: [-1.32977] for perumutation: (1, 0, 3, 2)\n",
      "model output: [-1.32977] for perumutation: (1, 2, 0, 3)\n",
      "model output: [-1.32977] for perumutation: (1, 2, 3, 0)\n",
      "model output: [-1.32977] for perumutation: (1, 3, 0, 2)\n",
      "model output: [-1.32977] for perumutation: (1, 3, 2, 0)\n",
      "model output: [-1.32977] for perumutation: (2, 0, 1, 3)\n",
      "model output: [-1.32977] for perumutation: (2, 0, 3, 1)\n",
      "model output: [-1.32977] for perumutation: (2, 1, 0, 3)\n",
      "model output: [-1.32977] for perumutation: (2, 1, 3, 0)\n",
      "model output: [-1.32977] for perumutation: (2, 3, 0, 1)\n",
      "model output: [-1.32977] for perumutation: (2, 3, 1, 0)\n",
      "model output: [-1.32977] for perumutation: (3, 0, 1, 2)\n",
      "model output: [-1.32977] for perumutation: (3, 0, 2, 1)\n",
      "model output: [-1.32977] for perumutation: (3, 1, 0, 2)\n",
      "model output: [-1.32977] for perumutation: (3, 1, 2, 0)\n",
      "model output: [-1.32977] for perumutation: (3, 2, 0, 1)\n",
      "model output: [-1.32977] for perumutation: (3, 2, 1, 0)\n"
     ]
    }
   ],
   "source": [
    "#print(AtomicNum_train[0])\n",
    "#print(Edge_train[0])\n",
    "\n",
    "device = 0\n",
    "model = GNN(n_convs=4, n_embed=128).to(device)\n",
    "model.eval()\n",
    "\n",
    "\n",
    "for perm in permutation:\n",
    "  \n",
    "  perm_graph = permute_graph(AtomicNum_orig, Edge_orig, perm)\n",
    "\n",
    "  perm_AtomicNum = torch.LongTensor(perm_graph[0]).to(device)\n",
    "  perm_Edge = torch.LongTensor(perm_graph[1]).to(device)\n",
    "  perm_Natom = len(perm_graph[0])\n",
    "  output = model(perm_AtomicNum, perm_Edge, perm_Natom)\n",
    "  output = output.detach().cpu().numpy().flatten()\n",
    "  np.set_printoptions(precision=5)\n",
    "  print(\"model output: {} for perumutation: {}\".format(output, perm)) "
   ]
  },
  {
   "cell_type": "markdown",
   "metadata": {
    "id": "b5KEswY8u27a"
   },
   "source": [
    "### 1.4  Train and evaluate GNN"
   ]
  },
  {
   "cell_type": "code",
   "execution_count": null,
   "metadata": {
    "id": "u8DqTDDbu27a"
   },
   "outputs": [],
   "source": [
    "from torch import optim\n",
    "\n",
    "optimizer = optim.Adam(model.parameters(), lr=1e-3)\n",
    "scheduler = optim.lr_scheduler.ReduceLROnPlateau(optimizer, 'min', factor=0.5, patience=10, verbose=True)"
   ]
  },
  {
   "cell_type": "code",
   "execution_count": null,
   "metadata": {
    "id": "MMgcJzzzu27a"
   },
   "outputs": [],
   "source": [
    "def loop(model, loader, epoch, evaluation=False):\n",
    "    \n",
    "    if evaluation:\n",
    "        model.eval()\n",
    "        mode = \"eval\"\n",
    "    else:\n",
    "        model.train()\n",
    "        mode = 'train'\n",
    "    batch_losses = []\n",
    "    \n",
    "    # Define tqdm progress bar \n",
    "    tqdm_data = tqdm(loader, position=0, leave=True, desc='{} (epoch #{})'.format(mode, epoch))\n",
    "    \n",
    "    for data in tqdm_data:\n",
    "        \n",
    "        AtomicNumber, Edge, Natom, y = data \n",
    "        AtomicNumber = AtomicNumber.to(device)\n",
    "        Edge = Edge.to(device)\n",
    "        y = y.to(device)\n",
    "        \n",
    "        # make predictions \n",
    "        pred = model(AtomicNumber, Edge, Natom)\n",
    "        \n",
    "        # define loss \n",
    "        loss = (pred-y).pow(2).mean()  \n",
    "        \n",
    "        if not evaluation:\n",
    "            optimizer.zero_grad()\n",
    "            loss.backward()\n",
    "            optimizer.step()\n",
    "\n",
    "        batch_losses.append(loss.item())\n",
    "\n",
    "        postfix = ['batch loss={:.3f}'.format(loss.item()) , \n",
    "                   'avg. loss={:.3f}'.format(np.array(batch_losses).mean())]\n",
    "        \n",
    "        tqdm_data.set_postfix_str(' '.join(postfix))\n",
    "    \n",
    "    return np.array(batch_losses).mean()"
   ]
  },
  {
   "cell_type": "code",
   "execution_count": null,
   "metadata": {
    "colab": {
     "base_uri": "https://localhost:8080/"
    },
    "executionInfo": {
     "elapsed": 838336,
     "status": "ok",
     "timestamp": 1619318942427,
     "user": {
      "displayName": "Dionysios Sema",
      "photoUrl": "",
      "userId": "09686118763046775361"
     },
     "user_tz": 240
    },
    "id": "8rjYSawwu27a",
    "outputId": "36bff84e-913a-4b98-8675-3d25ccad9115"
   },
   "outputs": [
    {
     "name": "stderr",
     "output_type": "stream",
     "text": [
      "train (epoch #0): 100%|█████████████████████████| 184/184 [00:14<00:00, 12.35it/s, batch loss=13.980 avg. loss=291.481]\n",
      "eval (epoch #0): 100%|█████████████████████████████| 27/27 [00:01<00:00, 18.75it/s, batch loss=17.518 avg. loss=16.664]\n",
      "train (epoch #1): 100%|████████████████████████████| 184/184 [00:14<00:00, 12.72it/s, batch loss=4.717 avg. loss=7.465]\n",
      "eval (epoch #1): 100%|██████████████████████████████| 27/27 [00:01<00:00, 19.11it/s, batch loss=17.921 avg. loss=6.079]\n",
      "train (epoch #2): 100%|████████████████████████████| 184/184 [00:14<00:00, 12.79it/s, batch loss=4.843 avg. loss=6.228]\n",
      "eval (epoch #2): 100%|███████████████████████████████| 27/27 [00:01<00:00, 19.23it/s, batch loss=7.637 avg. loss=6.973]\n",
      "train (epoch #3): 100%|████████████████████████████| 184/184 [00:14<00:00, 12.63it/s, batch loss=4.146 avg. loss=6.001]\n",
      "eval (epoch #3): 100%|█████████████████████████████| 27/27 [00:01<00:00, 18.92it/s, batch loss=13.164 avg. loss=13.668]\n",
      "train (epoch #4): 100%|████████████████████████████| 184/184 [00:15<00:00, 12.26it/s, batch loss=5.528 avg. loss=5.756]\n",
      "eval (epoch #4): 100%|███████████████████████████████| 27/27 [00:01<00:00, 17.93it/s, batch loss=8.990 avg. loss=4.943]\n",
      "train (epoch #5): 100%|████████████████████████████| 184/184 [00:14<00:00, 12.55it/s, batch loss=4.778 avg. loss=5.585]\n",
      "eval (epoch #5): 100%|██████████████████████████████| 27/27 [00:01<00:00, 18.97it/s, batch loss=12.013 avg. loss=8.506]\n",
      "train (epoch #6): 100%|████████████████████████████| 184/184 [00:14<00:00, 12.57it/s, batch loss=3.158 avg. loss=5.294]\n",
      "eval (epoch #6): 100%|███████████████████████████████| 27/27 [00:01<00:00, 19.17it/s, batch loss=2.761 avg. loss=4.507]\n",
      "train (epoch #7): 100%|████████████████████████████| 184/184 [00:14<00:00, 12.59it/s, batch loss=3.191 avg. loss=5.229]\n",
      "eval (epoch #7): 100%|███████████████████████████████| 27/27 [00:01<00:00, 19.03it/s, batch loss=6.983 avg. loss=7.043]\n",
      "train (epoch #8): 100%|████████████████████████████| 184/184 [00:14<00:00, 12.28it/s, batch loss=5.705 avg. loss=5.222]\n",
      "eval (epoch #8): 100%|███████████████████████████████| 27/27 [00:01<00:00, 17.24it/s, batch loss=6.958 avg. loss=6.055]\n",
      "train (epoch #9): 100%|████████████████████████████| 184/184 [00:14<00:00, 12.52it/s, batch loss=2.525 avg. loss=5.108]\n",
      "eval (epoch #9): 100%|███████████████████████████████| 27/27 [00:01<00:00, 18.84it/s, batch loss=4.737 avg. loss=4.668]\n",
      "train (epoch #10): 100%|███████████████████████████| 184/184 [00:14<00:00, 12.43it/s, batch loss=3.595 avg. loss=5.215]\n",
      "eval (epoch #10): 100%|██████████████████████████████| 27/27 [00:01<00:00, 19.30it/s, batch loss=4.661 avg. loss=5.056]\n",
      "train (epoch #11): 100%|███████████████████████████| 184/184 [00:14<00:00, 12.56it/s, batch loss=4.064 avg. loss=5.056]\n",
      "eval (epoch #11): 100%|██████████████████████████████| 27/27 [00:01<00:00, 18.67it/s, batch loss=4.345 avg. loss=4.357]\n",
      "train (epoch #12): 100%|███████████████████████████| 184/184 [00:14<00:00, 12.58it/s, batch loss=1.737 avg. loss=4.952]\n",
      "eval (epoch #12): 100%|██████████████████████████████| 27/27 [00:01<00:00, 19.32it/s, batch loss=4.892 avg. loss=4.559]\n",
      "train (epoch #13): 100%|███████████████████████████| 184/184 [00:14<00:00, 12.60it/s, batch loss=5.988 avg. loss=4.922]\n",
      "eval (epoch #13): 100%|██████████████████████████████| 27/27 [00:01<00:00, 18.47it/s, batch loss=4.229 avg. loss=4.323]\n",
      "train (epoch #14): 100%|███████████████████████████| 184/184 [00:14<00:00, 12.32it/s, batch loss=3.599 avg. loss=4.930]\n",
      "eval (epoch #14): 100%|██████████████████████████████| 27/27 [00:01<00:00, 18.96it/s, batch loss=5.666 avg. loss=6.110]\n",
      "train (epoch #15): 100%|███████████████████████████| 184/184 [00:14<00:00, 12.50it/s, batch loss=6.677 avg. loss=4.881]\n",
      "eval (epoch #15): 100%|██████████████████████████████| 27/27 [00:01<00:00, 18.42it/s, batch loss=5.451 avg. loss=6.613]\n",
      "train (epoch #16): 100%|███████████████████████████| 184/184 [00:14<00:00, 12.64it/s, batch loss=4.494 avg. loss=4.904]\n",
      "eval (epoch #16): 100%|██████████████████████████████| 27/27 [00:01<00:00, 19.14it/s, batch loss=4.220 avg. loss=5.299]\n",
      "train (epoch #17): 100%|███████████████████████████| 184/184 [00:14<00:00, 12.57it/s, batch loss=5.124 avg. loss=4.773]\n",
      "eval (epoch #17): 100%|██████████████████████████████| 27/27 [00:01<00:00, 18.56it/s, batch loss=3.729 avg. loss=4.567]\n",
      "train (epoch #18): 100%|███████████████████████████| 184/184 [00:14<00:00, 12.52it/s, batch loss=7.743 avg. loss=4.797]\n",
      "eval (epoch #18): 100%|██████████████████████████████| 27/27 [00:01<00:00, 18.84it/s, batch loss=4.299 avg. loss=4.846]\n",
      "train (epoch #19): 100%|███████████████████████████| 184/184 [00:14<00:00, 12.86it/s, batch loss=3.465 avg. loss=4.814]\n",
      "eval (epoch #19): 100%|██████████████████████████████| 27/27 [00:01<00:00, 19.62it/s, batch loss=5.965 avg. loss=4.812]\n",
      "train (epoch #20): 100%|███████████████████████████| 184/184 [00:14<00:00, 12.56it/s, batch loss=3.542 avg. loss=4.989]\n",
      "eval (epoch #20): 100%|██████████████████████████████| 27/27 [00:01<00:00, 19.71it/s, batch loss=4.537 avg. loss=5.859]\n",
      "train (epoch #21): 100%|███████████████████████████| 184/184 [00:14<00:00, 12.81it/s, batch loss=4.730 avg. loss=4.775]\n",
      "eval (epoch #21): 100%|██████████████████████████████| 27/27 [00:01<00:00, 19.21it/s, batch loss=5.692 avg. loss=4.414]\n",
      "train (epoch #22): 100%|███████████████████████████| 184/184 [00:14<00:00, 12.77it/s, batch loss=4.029 avg. loss=4.679]\n",
      "eval (epoch #22): 100%|██████████████████████████████| 27/27 [00:01<00:00, 19.27it/s, batch loss=5.474 avg. loss=4.544]\n",
      "train (epoch #23): 100%|███████████████████████████| 184/184 [00:14<00:00, 12.87it/s, batch loss=2.348 avg. loss=4.833]\n",
      "eval (epoch #23): 100%|██████████████████████████████| 27/27 [00:01<00:00, 19.36it/s, batch loss=4.105 avg. loss=4.451]\n",
      "train (epoch #24): 100%|███████████████████████████| 184/184 [00:14<00:00, 12.76it/s, batch loss=2.073 avg. loss=4.655]\n",
      "eval (epoch #24): 100%|██████████████████████████████| 27/27 [00:01<00:00, 18.68it/s, batch loss=4.861 avg. loss=5.834]\n",
      "train (epoch #25): 100%|██████████████████████████| 184/184 [00:14<00:00, 12.92it/s, batch loss=10.174 avg. loss=4.793]\n",
      "eval (epoch #25): 100%|████████████████████████████| 27/27 [00:01<00:00, 19.71it/s, batch loss=15.966 avg. loss=16.585]\n",
      "train (epoch #26): 100%|███████████████████████████| 184/184 [00:14<00:00, 12.70it/s, batch loss=6.533 avg. loss=4.905]\n",
      "eval (epoch #26): 100%|██████████████████████████████| 27/27 [00:01<00:00, 19.68it/s, batch loss=3.406 avg. loss=4.611]\n",
      "train (epoch #27): 100%|███████████████████████████| 184/184 [00:14<00:00, 13.07it/s, batch loss=2.271 avg. loss=4.635]\n",
      "eval (epoch #27): 100%|██████████████████████████████| 27/27 [00:01<00:00, 19.81it/s, batch loss=4.858 avg. loss=4.071]\n",
      "train (epoch #28): 100%|███████████████████████████| 184/184 [00:14<00:00, 12.73it/s, batch loss=3.596 avg. loss=4.658]\n",
      "eval (epoch #28): 100%|██████████████████████████████| 27/27 [00:01<00:00, 19.85it/s, batch loss=4.982 avg. loss=4.251]\n",
      "train (epoch #29): 100%|███████████████████████████| 184/184 [00:14<00:00, 12.73it/s, batch loss=5.873 avg. loss=4.722]\n",
      "eval (epoch #29): 100%|█████████████████████████████| 27/27 [00:01<00:00, 19.21it/s, batch loss=17.220 avg. loss=4.641]\n",
      "train (epoch #30): 100%|███████████████████████████| 184/184 [00:14<00:00, 12.89it/s, batch loss=1.919 avg. loss=4.597]\n",
      "eval (epoch #30): 100%|██████████████████████████████| 27/27 [00:01<00:00, 19.70it/s, batch loss=7.152 avg. loss=6.210]\n",
      "train (epoch #31): 100%|███████████████████████████| 184/184 [00:14<00:00, 12.89it/s, batch loss=2.653 avg. loss=4.617]\n",
      "eval (epoch #31): 100%|██████████████████████████████| 27/27 [00:01<00:00, 16.91it/s, batch loss=8.013 avg. loss=5.504]\n",
      "train (epoch #32): 100%|███████████████████████████| 184/184 [00:14<00:00, 12.91it/s, batch loss=7.009 avg. loss=4.638]\n",
      "eval (epoch #32): 100%|██████████████████████████████| 27/27 [00:01<00:00, 19.80it/s, batch loss=7.642 avg. loss=6.627]\n",
      "train (epoch #33): 100%|███████████████████████████| 184/184 [00:14<00:00, 12.53it/s, batch loss=4.717 avg. loss=4.769]\n",
      "eval (epoch #33): 100%|██████████████████████████████| 27/27 [00:01<00:00, 18.28it/s, batch loss=4.518 avg. loss=4.977]\n",
      "train (epoch #34): 100%|███████████████████████████| 184/184 [00:14<00:00, 12.74it/s, batch loss=3.605 avg. loss=4.560]\n",
      "eval (epoch #34): 100%|██████████████████████████████| 27/27 [00:01<00:00, 19.70it/s, batch loss=5.546 avg. loss=7.182]\n",
      "train (epoch #35): 100%|███████████████████████████| 184/184 [00:14<00:00, 12.62it/s, batch loss=3.721 avg. loss=4.567]\n",
      "eval (epoch #35): 100%|██████████████████████████████| 27/27 [00:01<00:00, 19.57it/s, batch loss=3.436 avg. loss=4.151]\n",
      "train (epoch #36): 100%|███████████████████████████| 184/184 [00:14<00:00, 12.84it/s, batch loss=6.696 avg. loss=4.566]\n",
      "eval (epoch #36): 100%|██████████████████████████████| 27/27 [00:01<00:00, 19.62it/s, batch loss=6.426 avg. loss=4.851]\n",
      "train (epoch #37): 100%|███████████████████████████| 184/184 [00:14<00:00, 12.74it/s, batch loss=3.674 avg. loss=4.596]\n",
      "eval (epoch #37): 100%|██████████████████████████████| 27/27 [00:01<00:00, 19.65it/s, batch loss=2.289 avg. loss=3.941]\n",
      "train (epoch #38): 100%|███████████████████████████| 184/184 [00:14<00:00, 12.41it/s, batch loss=3.883 avg. loss=4.528]\n",
      "eval (epoch #38): 100%|██████████████████████████████| 27/27 [00:01<00:00, 18.95it/s, batch loss=3.120 avg. loss=4.058]\n",
      "train (epoch #39): 100%|███████████████████████████| 184/184 [00:14<00:00, 12.60it/s, batch loss=2.165 avg. loss=4.520]\n",
      "eval (epoch #39): 100%|█████████████████████████████| 27/27 [00:01<00:00, 19.77it/s, batch loss=19.917 avg. loss=4.477]\n",
      "train (epoch #40): 100%|███████████████████████████| 184/184 [00:14<00:00, 12.74it/s, batch loss=2.199 avg. loss=4.419]\n",
      "eval (epoch #40): 100%|██████████████████████████████| 27/27 [00:01<00:00, 18.97it/s, batch loss=2.304 avg. loss=3.943]\n",
      "train (epoch #41): 100%|███████████████████████████| 184/184 [00:14<00:00, 12.58it/s, batch loss=2.500 avg. loss=4.493]\n",
      "eval (epoch #41): 100%|██████████████████████████████| 27/27 [00:01<00:00, 19.57it/s, batch loss=4.540 avg. loss=4.539]\n",
      "train (epoch #42): 100%|███████████████████████████| 184/184 [00:14<00:00, 12.70it/s, batch loss=9.110 avg. loss=4.505]\n",
      "eval (epoch #42): 100%|██████████████████████████████| 27/27 [00:01<00:00, 19.43it/s, batch loss=7.059 avg. loss=8.567]\n",
      "train (epoch #43): 100%|███████████████████████████| 184/184 [00:14<00:00, 12.59it/s, batch loss=4.086 avg. loss=4.548]\n",
      "eval (epoch #43): 100%|██████████████████████████████| 27/27 [00:01<00:00, 19.07it/s, batch loss=3.812 avg. loss=4.319]\n",
      "train (epoch #44): 100%|███████████████████████████| 184/184 [00:14<00:00, 12.40it/s, batch loss=3.978 avg. loss=4.484]\n",
      "eval (epoch #44): 100%|██████████████████████████████| 27/27 [00:01<00:00, 15.66it/s, batch loss=5.178 avg. loss=6.293]\n",
      "train (epoch #45): 100%|███████████████████████████| 184/184 [00:14<00:00, 12.46it/s, batch loss=2.642 avg. loss=4.447]\n",
      "eval (epoch #45): 100%|██████████████████████████████| 27/27 [00:01<00:00, 18.77it/s, batch loss=4.213 avg. loss=4.291]\n",
      "train (epoch #46): 100%|██████████████████████████| 184/184 [00:14<00:00, 12.48it/s, batch loss=10.920 avg. loss=4.443]\n",
      "eval (epoch #46): 100%|██████████████████████████████| 27/27 [00:01<00:00, 18.15it/s, batch loss=4.114 avg. loss=4.153]\n",
      "train (epoch #47): 100%|███████████████████████████| 184/184 [00:14<00:00, 12.50it/s, batch loss=4.622 avg. loss=4.484]\n",
      "eval (epoch #47): 100%|██████████████████████████████| 27/27 [00:01<00:00, 17.66it/s, batch loss=3.679 avg. loss=4.027]\n",
      "train (epoch #48): 100%|███████████████████████████| 184/184 [00:14<00:00, 12.47it/s, batch loss=3.736 avg. loss=4.386]\n",
      "eval (epoch #48): 100%|██████████████████████████████| 27/27 [00:01<00:00, 18.78it/s, batch loss=3.820 avg. loss=4.791]\n",
      "train (epoch #49): 100%|███████████████████████████| 184/184 [00:15<00:00, 12.20it/s, batch loss=1.685 avg. loss=4.411]\n",
      "eval (epoch #49): 100%|██████████████████████████████| 27/27 [00:01<00:00, 18.28it/s, batch loss=4.013 avg. loss=4.871]\n"
     ]
    }
   ],
   "source": [
    "import os\n",
    "\n",
    "# Get the current working directory\n",
    "mydrive = os.getcwd()\n",
    "\n",
    "model2 = GNN(n_convs=3, n_embed=64).to(device)\n",
    "\n",
    "from torch import optim\n",
    "\n",
    "optimizer = optim.Adam(model2.parameters(), lr=1e-3)\n",
    "scheduler = optim.lr_scheduler.ReduceLROnPlateau(optimizer, 'min', factor=0.5, patience=50, verbose=True)\n",
    "\n",
    "train_l = []\n",
    "val_l = []\n",
    "ep = []\n",
    "\n",
    "for epoch in range(50):    \n",
    "    train_loss = loop(model2, train_loader, epoch)\n",
    "    val_loss = loop(model2, val_loader, epoch, evaluation=True)\n",
    "    \n",
    "    ep.append(epoch)\n",
    "    train_l.append(train_loss)\n",
    "    val_l.append(val_loss)\n",
    "\n",
    "    # save model \n",
    "    if epoch % 10 == 0:\n",
    "        torch.save(model.state_dict(), \"{}/gcn_model_{}.pt\".format(mydrive, epoch))"
   ]
  },
  {
   "cell_type": "markdown",
   "metadata": {
    "id": "OEPUcAOndePL"
   },
   "source": [
    "Scatter plots and loss"
   ]
  },
  {
   "cell_type": "code",
   "execution_count": null,
   "metadata": {
    "colab": {
     "base_uri": "https://localhost:8080/",
     "height": 279
    },
    "executionInfo": {
     "elapsed": 377,
     "status": "ok",
     "timestamp": 1619320302549,
     "user": {
      "displayName": "Dionysios Sema",
      "photoUrl": "",
      "userId": "09686118763046775361"
     },
     "user_tz": 240
    },
    "id": "0qV3vfMk798A",
    "outputId": "3101b127-4816-48ea-f361-b588c7b77849"
   },
   "outputs": [
    {
     "data": {
      "image/png": "[encoded data removed]",
      "text/plain": [
       "<Figure size 432x288 with 1 Axes>"
      ]
     },
     "metadata": {
      "needs_background": "light",
      "tags": []
     },
     "output_type": "display_data"
    }
   ],
   "source": [
    "import matplotlib.pyplot as plt\n",
    "\n",
    "plt.plot(ep, train_l)\n",
    "plt.plot(ep, val_l)\n",
    "plt.xlabel(\"Epochs\")\n",
    "plt.ylabel(\"MSE Loss\")\n",
    "plt.legend(['Training Loss', 'Validation Loss'])\n",
    "plt.show()"
   ]
  },
  {
   "cell_type": "code",
   "execution_count": null,
   "metadata": {
    "colab": {
     "base_uri": "https://localhost:8080/"
    },
    "executionInfo": {
     "elapsed": 11800,
     "status": "ok",
     "timestamp": 1619320179364,
     "user": {
      "displayName": "Dionysios Sema",
      "photoUrl": "",
      "userId": "09686118763046775361"
     },
     "user_tz": 240
    },
    "id": "ZNEpmwLNdXjq",
    "outputId": "1490d826-5354-49a3-8b1e-1ceaedd45340"
   },
   "outputs": [
    {
     "name": "stderr",
     "output_type": "stream",
     "text": [
      "eval (epoch #1): 100%|███████████████████████████████████████████████████████████████| 184/184 [00:09<00:00, 20.08it/s]\n",
      "eval (epoch #1): 100%|█████████████████████████████████████████████████████████████████| 53/53 [00:02<00:00, 20.67it/s]\n"
     ]
    }
   ],
   "source": [
    "\n",
    "model.eval()\n",
    "mode = \"eval\"\n",
    "\n",
    "# Get prediction for training set\n",
    "tqdm_data = tqdm(train_loader, position=0, leave=True, desc='{} (epoch #{})'.format(mode, 1))\n",
    "\n",
    "y_pred_train = []\n",
    "y_true_train = []\n",
    "\n",
    "for data in tqdm_data:\n",
    "  \n",
    "  AtomicNum_train, Edge_train, Natom_train, y_true = data\n",
    "  AtomicNum_train = AtomicNum_train.to(device)\n",
    "  Edge_train = Edge_train.to(device)\n",
    "  # make predictions \n",
    "  prediction_train = model2(AtomicNum_train, Edge_train, Natom_train)\n",
    "\n",
    "  y_pred_train.append(prediction_train.detach().cpu().numpy().flatten())\n",
    "  y_true_train.append(y_true.detach().cpu().numpy().flatten())\n",
    "\n",
    "# Get prediction for test set\n",
    "tqdm_data = tqdm(test_loader, position=0, leave=True, desc='{} (epoch #{})'.format(mode, 1))\n",
    "\n",
    "y_pred_test = []\n",
    "y_true_test = []\n",
    "\n",
    "for data in tqdm_data:\n",
    "  \n",
    "  AtomicNum_test, Edge_test, Natom_test, y_true = data\n",
    "  AtomicNum_test = AtomicNum_test.to(device)\n",
    "  Edge_test = Edge_test.to(device)\n",
    "  # make predictions \n",
    "  prediction_test = model2(AtomicNum_test, Edge_test, Natom_test)\n",
    "\n",
    "  y_pred_test.append(prediction_test.detach().cpu().numpy().flatten())\n",
    "  y_true_test.append(y_true.detach().cpu().numpy().flatten())\n"
   ]
  },
  {
   "cell_type": "code",
   "execution_count": null,
   "metadata": {
    "id": "hlKtlpEk84Gh"
   },
   "outputs": [],
   "source": [
    "pred_train = [item for sublist in y_pred_train for item in sublist]\n",
    "true_train = [item for sublist in y_true_train for item in sublist]\n",
    "\n",
    "pred_test = [item for sublist in y_pred_test for item in sublist]\n",
    "true_test = [item for sublist in y_true_test for item in sublist]"
   ]
  },
  {
   "cell_type": "code",
   "execution_count": null,
   "metadata": {
    "colab": {
     "base_uri": "https://localhost:8080/",
     "height": 319
    },
    "executionInfo": {
     "elapsed": 20352,
     "status": "ok",
     "timestamp": 1619320684780,
     "user": {
      "displayName": "Dionysios Sema",
      "photoUrl": "",
      "userId": "09686118763046775361"
     },
     "user_tz": 240
    },
    "id": "bbjbRqUq62dX",
    "outputId": "db8783fa-f69b-4340-e0ab-f9fa018bfb90"
   },
   "outputs": [
    {
     "name": "stderr",
     "output_type": "stream",
     "text": [
      "eval (epoch #1): 100%|█████████████████████████████| 184/184 [00:11<00:00, 16.69it/s, batch loss=5.054 avg. loss=5.220]\n",
      "eval (epoch #1): 100%|███████████████████████████████| 53/53 [00:02<00:00, 18.20it/s, batch loss=4.522 avg. loss=5.238]\n"
     ]
    },
    {
     "data": {
      "image/png": "[encoded data removed]",
      "text/plain": [
       "<Figure size 432x288 with 1 Axes>"
      ]
     },
     "metadata": {
      "needs_background": "light",
      "tags": []
     },
     "output_type": "display_data"
    }
   ],
   "source": [
    "\n",
    "train_loss = loop(model2, train_loader, 1, evaluation=True)\n",
    "\n",
    "plt.scatter(pred_train, true_train, label='train MSE: {}'.format(train_loss))\n",
    "\n",
    "test_loss = loop(model2, test_loader, 1, evaluation=True)\n",
    "\n",
    "plt.scatter(pred_test, true_test, label='test MSE: {}'.format(test_loss))\n",
    "\n",
    "plt.legend()\n",
    "plt.show()\n"
   ]
  },
  {
   "cell_type": "markdown",
   "metadata": {
    "id": "3hLqjxpLbsMr"
   },
   "source": [
    "Caption: The scatter plot shows the polarizability values from the model (x-axis) vs the ground truth (y-axis), for the training (blue) and testing (orange) splits of the dataset."
   ]
  }
 ],
 "metadata": {
  "accelerator": "GPU",
  "colab": {
   "collapsed_sections": [],
   "name": "ps4_graphconv_part1.ipynb",
   "provenance": []
  },
  "kernelspec": {
   "display_name": "Python [conda env:ps3]",
   "language": "python",
   "name": "conda-env-ps3-py"
  },
  "language_info": {
   "codemirror_mode": {
    "name": "ipython",
    "version": 3
   },
   "file_extension": ".py",
   "mimetype": "text/x-python",
   "name": "python",
   "nbconvert_exporter": "python",
   "pygments_lexer": "ipython3",
   "version": "3.7.9"
  }
 },
 "nbformat": 4,
 "nbformat_minor": 1
}
